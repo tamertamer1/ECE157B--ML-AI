{
  "cells": [
    {
      "cell_type": "code",
      "execution_count": null,
      "metadata": {
        "id": "ZGONvJHCyvPS"
      },
      "outputs": [],
      "source": [
        "# For tips on running notebooks in Google Colab, see\n",
        "# https://pytorch.org/tutorials/beginner/colab"
      ]
    },
    {
      "cell_type": "markdown",
      "metadata": {
        "id": "VoGR9yLkyvPT"
      },
      "source": [
        "\n",
        "# Reinforcement Learning (DQN) Tutorial\n",
        "**Author**: [Adam Paszke](https://github.com/apaszke)\n",
        "            [Mark Towers](https://github.com/pseudo-rnd-thoughts)\n",
        "\n",
        "Heavily edited by [Matthew Dupree](https://github.com/4onen) for UCSB ECE 157B 272B Winter 2024\n",
        "\n",
        "This tutorial shows how to use PyTorch to train a Deep Q Learning (DQN) agent\n",
        "on the CartPole-v1 task from [Gymnasium](https://gymnasium.farama.org).\n",
        "\n",
        "**Task**\n",
        "\n",
        "The agent has to decide between two actions - moving the cart left or\n",
        "right - so that the pole attached to it stays upright. You can find more\n",
        "information about the environment and other more challenging environments at\n",
        "[Gymnasium's website](https://gymnasium.farama.org/environments/classic_control/cart_pole/).\n",
        "\n",
        ".. figure:: /_static/img/cartpole.gif\n",
        "   :alt: CartPole\n",
        "\n",
        "   CartPole\n",
        "\n",
        "As the agent observes the current state of the environment and chooses\n",
        "an action, the environment *transitions* to a new state, and also\n",
        "returns a reward that indicates the consequences of the action. In this\n",
        "task, rewards are +1 for every incremental timestep and the environment\n",
        "terminates if the pole falls over too far or the cart moves more than 2.4\n",
        "units away from center. This means better performing scenarios will run\n",
        "for longer duration, accumulating larger return.\n",
        "\n",
        "The CartPole task is designed so that the inputs to the agent are 4 real\n",
        "values representing the environment state (position, velocity, etc.).\n",
        "We take these 4 inputs without any scaling and pass them through a\n",
        "small fully-connected network with 2 outputs, one for each action.\n",
        "The network is trained to predict the expected value for each action,\n",
        "given the input state. The action with the highest expected value is\n",
        "then chosen.\n",
        "\n",
        "\n",
        "**Packages**\n",
        "\n",
        "First, let's import needed packages. For our environments, we need\n",
        "[gymnasium](https://gymnasium.farama.org/), installed by using `pip`.\n",
        "This is a fork of the original OpenAI Gym project and maintained by\n",
        "the same team since Gym v0.19.\n",
        "\n",
        "In order for the `box2d` environments to install correctly, we\n",
        "first need to install the `swig` package. This is a limitation of\n",
        "the build process for the `box2d` environments, so needs to be\n",
        "run as a separate step.\n",
        "\n",
        "For our model, we'll use the `torch` package, which is the PyTorch\n",
        "machine learning library. Training these simple reinforcement learning\n",
        "environments is quite doable on CPU, as the serial nature of the\n",
        "environments means that we don't get much benefit from GPU parallelism.\n",
        "Thus, a CPU-only installation link for PyTorch is provided, commented\n",
        "out, below.\n",
        "\n",
        "We use `numpy` to manipulate values in multiple places in the code, and\n",
        "plot using the `plotly` library (which requires `pandas` and `nbformat`.)\n",
        "`tqdm` provides nice progress bars for our training loops, and `ipywidgets`\n",
        "allows for a nice increase in interactivity for some cells.\n",
        "\n",
        "Finally, `ffmpeg` and `moviepy` are used to create the videos of the\n",
        "agent's performance in the environment, when the environment is wrapped\n",
        "with the `RecordVideo` wrapper from the `gym.wrappers` module."
      ]
    },
    {
      "cell_type": "code",
      "execution_count": null,
      "metadata": {
        "colab": {
          "base_uri": "https://localhost:8080/"
        },
        "id": "6BZRvtR7yvPU",
        "outputId": "59720b2a-a2cf-48d2-921b-54929a1e1010"
      },
      "outputs": [
        {
          "output_type": "stream",
          "name": "stdout",
          "text": [
            "Requirement already satisfied: swig in /usr/local/lib/python3.10/dist-packages (4.2.1)\n",
            "Requirement already satisfied: torch in /usr/local/lib/python3.10/dist-packages (2.1.0+cu121)\n",
            "Requirement already satisfied: gymnasium[box2d,classic_control] in /usr/local/lib/python3.10/dist-packages (0.29.1)\n",
            "Requirement already satisfied: pandas in /usr/local/lib/python3.10/dist-packages (1.5.3)\n",
            "Requirement already satisfied: numpy in /usr/local/lib/python3.10/dist-packages (1.25.2)\n",
            "Requirement already satisfied: nbformat in /usr/local/lib/python3.10/dist-packages (5.9.2)\n",
            "Requirement already satisfied: plotly in /usr/local/lib/python3.10/dist-packages (5.15.0)\n",
            "Requirement already satisfied: tqdm in /usr/local/lib/python3.10/dist-packages (4.66.2)\n",
            "Requirement already satisfied: moviepy in /usr/local/lib/python3.10/dist-packages (1.0.3)\n",
            "Requirement already satisfied: ffmpeg in /usr/local/lib/python3.10/dist-packages (1.4)\n",
            "Requirement already satisfied: ipywidgets in /usr/local/lib/python3.10/dist-packages (7.7.1)\n",
            "Requirement already satisfied: filelock in /usr/local/lib/python3.10/dist-packages (from torch) (3.13.1)\n",
            "Requirement already satisfied: typing-extensions in /usr/local/lib/python3.10/dist-packages (from torch) (4.10.0)\n",
            "Requirement already satisfied: sympy in /usr/local/lib/python3.10/dist-packages (from torch) (1.12)\n",
            "Requirement already satisfied: networkx in /usr/local/lib/python3.10/dist-packages (from torch) (3.2.1)\n",
            "Requirement already satisfied: jinja2 in /usr/local/lib/python3.10/dist-packages (from torch) (3.1.3)\n",
            "Requirement already satisfied: fsspec in /usr/local/lib/python3.10/dist-packages (from torch) (2023.6.0)\n",
            "Requirement already satisfied: triton==2.1.0 in /usr/local/lib/python3.10/dist-packages (from torch) (2.1.0)\n",
            "Requirement already satisfied: cloudpickle>=1.2.0 in /usr/local/lib/python3.10/dist-packages (from gymnasium[box2d,classic_control]) (2.2.1)\n",
            "Requirement already satisfied: farama-notifications>=0.0.1 in /usr/local/lib/python3.10/dist-packages (from gymnasium[box2d,classic_control]) (0.0.4)\n",
            "Requirement already satisfied: box2d-py==2.3.5 in /usr/local/lib/python3.10/dist-packages (from gymnasium[box2d,classic_control]) (2.3.5)\n",
            "Requirement already satisfied: pygame>=2.1.3 in /usr/local/lib/python3.10/dist-packages (from gymnasium[box2d,classic_control]) (2.5.2)\n",
            "Requirement already satisfied: swig==4.* in /usr/local/lib/python3.10/dist-packages (from gymnasium[box2d,classic_control]) (4.2.1)\n",
            "Requirement already satisfied: python-dateutil>=2.8.1 in /usr/local/lib/python3.10/dist-packages (from pandas) (2.8.2)\n",
            "Requirement already satisfied: pytz>=2020.1 in /usr/local/lib/python3.10/dist-packages (from pandas) (2023.4)\n",
            "Requirement already satisfied: fastjsonschema in /usr/local/lib/python3.10/dist-packages (from nbformat) (2.19.1)\n",
            "Requirement already satisfied: jsonschema>=2.6 in /usr/local/lib/python3.10/dist-packages (from nbformat) (4.19.2)\n",
            "Requirement already satisfied: jupyter-core in /usr/local/lib/python3.10/dist-packages (from nbformat) (5.7.1)\n",
            "Requirement already satisfied: traitlets>=5.1 in /usr/local/lib/python3.10/dist-packages (from nbformat) (5.7.1)\n",
            "Requirement already satisfied: tenacity>=6.2.0 in /usr/local/lib/python3.10/dist-packages (from plotly) (8.2.3)\n",
            "Requirement already satisfied: packaging in /usr/local/lib/python3.10/dist-packages (from plotly) (23.2)\n",
            "Requirement already satisfied: decorator<5.0,>=4.0.2 in /usr/local/lib/python3.10/dist-packages (from moviepy) (4.4.2)\n",
            "Requirement already satisfied: requests<3.0,>=2.8.1 in /usr/local/lib/python3.10/dist-packages (from moviepy) (2.31.0)\n",
            "Requirement already satisfied: proglog<=1.0.0 in /usr/local/lib/python3.10/dist-packages (from moviepy) (0.1.10)\n",
            "Requirement already satisfied: imageio<3.0,>=2.5 in /usr/local/lib/python3.10/dist-packages (from moviepy) (2.31.6)\n",
            "Requirement already satisfied: imageio-ffmpeg>=0.2.0 in /usr/local/lib/python3.10/dist-packages (from moviepy) (0.4.9)\n",
            "Requirement already satisfied: ipykernel>=4.5.1 in /usr/local/lib/python3.10/dist-packages (from ipywidgets) (5.5.6)\n",
            "Requirement already satisfied: ipython-genutils~=0.2.0 in /usr/local/lib/python3.10/dist-packages (from ipywidgets) (0.2.0)\n",
            "Requirement already satisfied: widgetsnbextension~=3.6.0 in /usr/local/lib/python3.10/dist-packages (from ipywidgets) (3.6.6)\n",
            "Requirement already satisfied: ipython>=4.0.0 in /usr/local/lib/python3.10/dist-packages (from ipywidgets) (7.34.0)\n",
            "Requirement already satisfied: jupyterlab-widgets>=1.0.0 in /usr/local/lib/python3.10/dist-packages (from ipywidgets) (3.0.10)\n",
            "Requirement already satisfied: pillow<10.1.0,>=8.3.2 in /usr/local/lib/python3.10/dist-packages (from imageio<3.0,>=2.5->moviepy) (9.4.0)\n",
            "Requirement already satisfied: setuptools in /usr/local/lib/python3.10/dist-packages (from imageio-ffmpeg>=0.2.0->moviepy) (67.7.2)\n",
            "Requirement already satisfied: jupyter-client in /usr/local/lib/python3.10/dist-packages (from ipykernel>=4.5.1->ipywidgets) (6.1.12)\n",
            "Requirement already satisfied: tornado>=4.2 in /usr/local/lib/python3.10/dist-packages (from ipykernel>=4.5.1->ipywidgets) (6.3.3)\n",
            "Requirement already satisfied: jedi>=0.16 in /usr/local/lib/python3.10/dist-packages (from ipython>=4.0.0->ipywidgets) (0.19.1)\n",
            "Requirement already satisfied: pickleshare in /usr/local/lib/python3.10/dist-packages (from ipython>=4.0.0->ipywidgets) (0.7.5)\n",
            "Requirement already satisfied: prompt-toolkit!=3.0.0,!=3.0.1,<3.1.0,>=2.0.0 in /usr/local/lib/python3.10/dist-packages (from ipython>=4.0.0->ipywidgets) (3.0.43)\n",
            "Requirement already satisfied: pygments in /usr/local/lib/python3.10/dist-packages (from ipython>=4.0.0->ipywidgets) (2.16.1)\n",
            "Requirement already satisfied: backcall in /usr/local/lib/python3.10/dist-packages (from ipython>=4.0.0->ipywidgets) (0.2.0)\n",
            "Requirement already satisfied: matplotlib-inline in /usr/local/lib/python3.10/dist-packages (from ipython>=4.0.0->ipywidgets) (0.1.6)\n",
            "Requirement already satisfied: pexpect>4.3 in /usr/local/lib/python3.10/dist-packages (from ipython>=4.0.0->ipywidgets) (4.9.0)\n",
            "Requirement already satisfied: attrs>=22.2.0 in /usr/local/lib/python3.10/dist-packages (from jsonschema>=2.6->nbformat) (23.2.0)\n",
            "Requirement already satisfied: jsonschema-specifications>=2023.03.6 in /usr/local/lib/python3.10/dist-packages (from jsonschema>=2.6->nbformat) (2023.12.1)\n",
            "Requirement already satisfied: referencing>=0.28.4 in /usr/local/lib/python3.10/dist-packages (from jsonschema>=2.6->nbformat) (0.33.0)\n",
            "Requirement already satisfied: rpds-py>=0.7.1 in /usr/local/lib/python3.10/dist-packages (from jsonschema>=2.6->nbformat) (0.18.0)\n",
            "Requirement already satisfied: six>=1.5 in /usr/local/lib/python3.10/dist-packages (from python-dateutil>=2.8.1->pandas) (1.16.0)\n",
            "Requirement already satisfied: charset-normalizer<4,>=2 in /usr/local/lib/python3.10/dist-packages (from requests<3.0,>=2.8.1->moviepy) (3.3.2)\n",
            "Requirement already satisfied: idna<4,>=2.5 in /usr/local/lib/python3.10/dist-packages (from requests<3.0,>=2.8.1->moviepy) (3.6)\n",
            "Requirement already satisfied: urllib3<3,>=1.21.1 in /usr/local/lib/python3.10/dist-packages (from requests<3.0,>=2.8.1->moviepy) (2.0.7)\n",
            "Requirement already satisfied: certifi>=2017.4.17 in /usr/local/lib/python3.10/dist-packages (from requests<3.0,>=2.8.1->moviepy) (2024.2.2)\n",
            "Requirement already satisfied: notebook>=4.4.1 in /usr/local/lib/python3.10/dist-packages (from widgetsnbextension~=3.6.0->ipywidgets) (6.5.5)\n",
            "Requirement already satisfied: MarkupSafe>=2.0 in /usr/local/lib/python3.10/dist-packages (from jinja2->torch) (2.1.5)\n",
            "Requirement already satisfied: platformdirs>=2.5 in /usr/local/lib/python3.10/dist-packages (from jupyter-core->nbformat) (4.2.0)\n",
            "Requirement already satisfied: mpmath>=0.19 in /usr/local/lib/python3.10/dist-packages (from sympy->torch) (1.3.0)\n",
            "Requirement already satisfied: parso<0.9.0,>=0.8.3 in /usr/local/lib/python3.10/dist-packages (from jedi>=0.16->ipython>=4.0.0->ipywidgets) (0.8.3)\n",
            "Requirement already satisfied: pyzmq<25,>=17 in /usr/local/lib/python3.10/dist-packages (from notebook>=4.4.1->widgetsnbextension~=3.6.0->ipywidgets) (23.2.1)\n",
            "Requirement already satisfied: argon2-cffi in /usr/local/lib/python3.10/dist-packages (from notebook>=4.4.1->widgetsnbextension~=3.6.0->ipywidgets) (23.1.0)\n",
            "Requirement already satisfied: nbconvert>=5 in /usr/local/lib/python3.10/dist-packages (from notebook>=4.4.1->widgetsnbextension~=3.6.0->ipywidgets) (6.5.4)\n",
            "Requirement already satisfied: nest-asyncio>=1.5 in /usr/local/lib/python3.10/dist-packages (from notebook>=4.4.1->widgetsnbextension~=3.6.0->ipywidgets) (1.6.0)\n",
            "Requirement already satisfied: Send2Trash>=1.8.0 in /usr/local/lib/python3.10/dist-packages (from notebook>=4.4.1->widgetsnbextension~=3.6.0->ipywidgets) (1.8.2)\n",
            "Requirement already satisfied: terminado>=0.8.3 in /usr/local/lib/python3.10/dist-packages (from notebook>=4.4.1->widgetsnbextension~=3.6.0->ipywidgets) (0.18.0)\n",
            "Requirement already satisfied: prometheus-client in /usr/local/lib/python3.10/dist-packages (from notebook>=4.4.1->widgetsnbextension~=3.6.0->ipywidgets) (0.20.0)\n",
            "Requirement already satisfied: nbclassic>=0.4.7 in /usr/local/lib/python3.10/dist-packages (from notebook>=4.4.1->widgetsnbextension~=3.6.0->ipywidgets) (1.0.0)\n",
            "Requirement already satisfied: ptyprocess>=0.5 in /usr/local/lib/python3.10/dist-packages (from pexpect>4.3->ipython>=4.0.0->ipywidgets) (0.7.0)\n",
            "Requirement already satisfied: wcwidth in /usr/local/lib/python3.10/dist-packages (from prompt-toolkit!=3.0.0,!=3.0.1,<3.1.0,>=2.0.0->ipython>=4.0.0->ipywidgets) (0.2.13)\n",
            "Requirement already satisfied: jupyter-server>=1.8 in /usr/local/lib/python3.10/dist-packages (from nbclassic>=0.4.7->notebook>=4.4.1->widgetsnbextension~=3.6.0->ipywidgets) (1.24.0)\n",
            "Requirement already satisfied: notebook-shim>=0.2.3 in /usr/local/lib/python3.10/dist-packages (from nbclassic>=0.4.7->notebook>=4.4.1->widgetsnbextension~=3.6.0->ipywidgets) (0.2.4)\n",
            "Requirement already satisfied: lxml in /usr/local/lib/python3.10/dist-packages (from nbconvert>=5->notebook>=4.4.1->widgetsnbextension~=3.6.0->ipywidgets) (4.9.4)\n",
            "Requirement already satisfied: beautifulsoup4 in /usr/local/lib/python3.10/dist-packages (from nbconvert>=5->notebook>=4.4.1->widgetsnbextension~=3.6.0->ipywidgets) (4.12.3)\n",
            "Requirement already satisfied: bleach in /usr/local/lib/python3.10/dist-packages (from nbconvert>=5->notebook>=4.4.1->widgetsnbextension~=3.6.0->ipywidgets) (6.1.0)\n",
            "Requirement already satisfied: defusedxml in /usr/local/lib/python3.10/dist-packages (from nbconvert>=5->notebook>=4.4.1->widgetsnbextension~=3.6.0->ipywidgets) (0.7.1)\n",
            "Requirement already satisfied: entrypoints>=0.2.2 in /usr/local/lib/python3.10/dist-packages (from nbconvert>=5->notebook>=4.4.1->widgetsnbextension~=3.6.0->ipywidgets) (0.4)\n",
            "Requirement already satisfied: jupyterlab-pygments in /usr/local/lib/python3.10/dist-packages (from nbconvert>=5->notebook>=4.4.1->widgetsnbextension~=3.6.0->ipywidgets) (0.3.0)\n",
            "Requirement already satisfied: mistune<2,>=0.8.1 in /usr/local/lib/python3.10/dist-packages (from nbconvert>=5->notebook>=4.4.1->widgetsnbextension~=3.6.0->ipywidgets) (0.8.4)\n",
            "Requirement already satisfied: nbclient>=0.5.0 in /usr/local/lib/python3.10/dist-packages (from nbconvert>=5->notebook>=4.4.1->widgetsnbextension~=3.6.0->ipywidgets) (0.9.0)\n",
            "Requirement already satisfied: pandocfilters>=1.4.1 in /usr/local/lib/python3.10/dist-packages (from nbconvert>=5->notebook>=4.4.1->widgetsnbextension~=3.6.0->ipywidgets) (1.5.1)\n",
            "Requirement already satisfied: tinycss2 in /usr/local/lib/python3.10/dist-packages (from nbconvert>=5->notebook>=4.4.1->widgetsnbextension~=3.6.0->ipywidgets) (1.2.1)\n",
            "Requirement already satisfied: argon2-cffi-bindings in /usr/local/lib/python3.10/dist-packages (from argon2-cffi->notebook>=4.4.1->widgetsnbextension~=3.6.0->ipywidgets) (21.2.0)\n",
            "Requirement already satisfied: anyio<4,>=3.1.0 in /usr/local/lib/python3.10/dist-packages (from jupyter-server>=1.8->nbclassic>=0.4.7->notebook>=4.4.1->widgetsnbextension~=3.6.0->ipywidgets) (3.7.1)\n",
            "Requirement already satisfied: websocket-client in /usr/local/lib/python3.10/dist-packages (from jupyter-server>=1.8->nbclassic>=0.4.7->notebook>=4.4.1->widgetsnbextension~=3.6.0->ipywidgets) (1.7.0)\n",
            "Requirement already satisfied: cffi>=1.0.1 in /usr/local/lib/python3.10/dist-packages (from argon2-cffi-bindings->argon2-cffi->notebook>=4.4.1->widgetsnbextension~=3.6.0->ipywidgets) (1.16.0)\n",
            "Requirement already satisfied: soupsieve>1.2 in /usr/local/lib/python3.10/dist-packages (from beautifulsoup4->nbconvert>=5->notebook>=4.4.1->widgetsnbextension~=3.6.0->ipywidgets) (2.5)\n",
            "Requirement already satisfied: webencodings in /usr/local/lib/python3.10/dist-packages (from bleach->nbconvert>=5->notebook>=4.4.1->widgetsnbextension~=3.6.0->ipywidgets) (0.5.1)\n",
            "Requirement already satisfied: sniffio>=1.1 in /usr/local/lib/python3.10/dist-packages (from anyio<4,>=3.1.0->jupyter-server>=1.8->nbclassic>=0.4.7->notebook>=4.4.1->widgetsnbextension~=3.6.0->ipywidgets) (1.3.1)\n",
            "Requirement already satisfied: exceptiongroup in /usr/local/lib/python3.10/dist-packages (from anyio<4,>=3.1.0->jupyter-server>=1.8->nbclassic>=0.4.7->notebook>=4.4.1->widgetsnbextension~=3.6.0->ipywidgets) (1.2.0)\n",
            "Requirement already satisfied: pycparser in /usr/local/lib/python3.10/dist-packages (from cffi>=1.0.1->argon2-cffi-bindings->argon2-cffi->notebook>=4.4.1->widgetsnbextension~=3.6.0->ipywidgets) (2.21)\n"
          ]
        }
      ],
      "source": [
        "%pip install swig\n",
        "# %pip install torch --index-url https://download.pytorch.org/whl/cpu\n",
        "%pip install torch \"gymnasium[classic_control,box2d]\" pandas numpy nbformat plotly tqdm moviepy ffmpeg ipywidgets"
      ]
    },
    {
      "cell_type": "code",
      "source": [
        "!pip install torch torchvision torchaudio --upgrade"
      ],
      "metadata": {
        "colab": {
          "base_uri": "https://localhost:8080/",
          "height": 1000
        },
        "id": "SrkKaMMq35ZV",
        "outputId": "64afcace-d6e9-4460-a037-3cf1c1154ddc"
      },
      "execution_count": null,
      "outputs": [
        {
          "output_type": "stream",
          "name": "stdout",
          "text": [
            "Requirement already satisfied: torch in /usr/local/lib/python3.10/dist-packages (2.1.0+cu121)\n",
            "Collecting torch\n",
            "  Downloading torch-2.2.1-cp310-cp310-manylinux1_x86_64.whl (755.5 MB)\n",
            "\u001b[2K     \u001b[90m━━━━━━━━━━━━━━━━━━━━━━━━━━━━━━━━━━━━━━━━\u001b[0m \u001b[32m755.5/755.5 MB\u001b[0m \u001b[31m1.9 MB/s\u001b[0m eta \u001b[36m0:00:00\u001b[0m\n",
            "\u001b[?25hRequirement already satisfied: torchvision in /usr/local/lib/python3.10/dist-packages (0.16.0+cu121)\n",
            "Collecting torchvision\n",
            "  Downloading torchvision-0.17.1-cp310-cp310-manylinux1_x86_64.whl (6.9 MB)\n",
            "\u001b[2K     \u001b[90m━━━━━━━━━━━━━━━━━━━━━━━━━━━━━━━━━━━━━━━━\u001b[0m \u001b[32m6.9/6.9 MB\u001b[0m \u001b[31m56.2 MB/s\u001b[0m eta \u001b[36m0:00:00\u001b[0m\n",
            "\u001b[?25hRequirement already satisfied: torchaudio in /usr/local/lib/python3.10/dist-packages (2.1.0+cu121)\n",
            "Collecting torchaudio\n",
            "  Downloading torchaudio-2.2.1-cp310-cp310-manylinux1_x86_64.whl (3.3 MB)\n",
            "\u001b[2K     \u001b[90m━━━━━━━━━━━━━━━━━━━━━━━━━━━━━━━━━━━━━━━━\u001b[0m \u001b[32m3.3/3.3 MB\u001b[0m \u001b[31m54.5 MB/s\u001b[0m eta \u001b[36m0:00:00\u001b[0m\n",
            "\u001b[?25hRequirement already satisfied: filelock in /usr/local/lib/python3.10/dist-packages (from torch) (3.13.1)\n",
            "Requirement already satisfied: typing-extensions>=4.8.0 in /usr/local/lib/python3.10/dist-packages (from torch) (4.10.0)\n",
            "Requirement already satisfied: sympy in /usr/local/lib/python3.10/dist-packages (from torch) (1.12)\n",
            "Requirement already satisfied: networkx in /usr/local/lib/python3.10/dist-packages (from torch) (3.2.1)\n",
            "Requirement already satisfied: jinja2 in /usr/local/lib/python3.10/dist-packages (from torch) (3.1.3)\n",
            "Requirement already satisfied: fsspec in /usr/local/lib/python3.10/dist-packages (from torch) (2023.6.0)\n",
            "Collecting nvidia-cuda-nvrtc-cu12==12.1.105 (from torch)\n",
            "  Downloading nvidia_cuda_nvrtc_cu12-12.1.105-py3-none-manylinux1_x86_64.whl (23.7 MB)\n",
            "\u001b[2K     \u001b[90m━━━━━━━━━━━━━━━━━━━━━━━━━━━━━━━━━━━━━━━━\u001b[0m \u001b[32m23.7/23.7 MB\u001b[0m \u001b[31m35.1 MB/s\u001b[0m eta \u001b[36m0:00:00\u001b[0m\n",
            "\u001b[?25hCollecting nvidia-cuda-runtime-cu12==12.1.105 (from torch)\n",
            "  Downloading nvidia_cuda_runtime_cu12-12.1.105-py3-none-manylinux1_x86_64.whl (823 kB)\n",
            "\u001b[2K     \u001b[90m━━━━━━━━━━━━━━━━━━━━━━━━━━━━━━━━━━━━━━━━\u001b[0m \u001b[32m823.6/823.6 kB\u001b[0m \u001b[31m67.6 MB/s\u001b[0m eta \u001b[36m0:00:00\u001b[0m\n",
            "\u001b[?25hCollecting nvidia-cuda-cupti-cu12==12.1.105 (from torch)\n",
            "  Downloading nvidia_cuda_cupti_cu12-12.1.105-py3-none-manylinux1_x86_64.whl (14.1 MB)\n",
            "\u001b[2K     \u001b[90m━━━━━━━━━━━━━━━━━━━━━━━━━━━━━━━━━━━━━━━━\u001b[0m \u001b[32m14.1/14.1 MB\u001b[0m \u001b[31m50.0 MB/s\u001b[0m eta \u001b[36m0:00:00\u001b[0m\n",
            "\u001b[?25hCollecting nvidia-cudnn-cu12==8.9.2.26 (from torch)\n",
            "  Downloading nvidia_cudnn_cu12-8.9.2.26-py3-none-manylinux1_x86_64.whl (731.7 MB)\n",
            "\u001b[2K     \u001b[90m━━━━━━━━━━━━━━━━━━━━━━━━━━━━━━━━━━━━━━━━\u001b[0m \u001b[32m731.7/731.7 MB\u001b[0m \u001b[31m1.3 MB/s\u001b[0m eta \u001b[36m0:00:00\u001b[0m\n",
            "\u001b[?25hCollecting nvidia-cublas-cu12==12.1.3.1 (from torch)\n",
            "  Downloading nvidia_cublas_cu12-12.1.3.1-py3-none-manylinux1_x86_64.whl (410.6 MB)\n",
            "\u001b[2K     \u001b[90m━━━━━━━━━━━━━━━━━━━━━━━━━━━━━━━━━━━━━━━━\u001b[0m \u001b[32m410.6/410.6 MB\u001b[0m \u001b[31m2.3 MB/s\u001b[0m eta \u001b[36m0:00:00\u001b[0m\n",
            "\u001b[?25hCollecting nvidia-cufft-cu12==11.0.2.54 (from torch)\n",
            "  Downloading nvidia_cufft_cu12-11.0.2.54-py3-none-manylinux1_x86_64.whl (121.6 MB)\n",
            "\u001b[2K     \u001b[90m━━━━━━━━━━━━━━━━━━━━━━━━━━━━━━━━━━━━━━━━\u001b[0m \u001b[32m121.6/121.6 MB\u001b[0m \u001b[31m7.4 MB/s\u001b[0m eta \u001b[36m0:00:00\u001b[0m\n",
            "\u001b[?25hCollecting nvidia-curand-cu12==10.3.2.106 (from torch)\n",
            "  Downloading nvidia_curand_cu12-10.3.2.106-py3-none-manylinux1_x86_64.whl (56.5 MB)\n",
            "\u001b[2K     \u001b[90m━━━━━━━━━━━━━━━━━━━━━━━━━━━━━━━━━━━━━━━━\u001b[0m \u001b[32m56.5/56.5 MB\u001b[0m \u001b[31m10.7 MB/s\u001b[0m eta \u001b[36m0:00:00\u001b[0m\n",
            "\u001b[?25hCollecting nvidia-cusolver-cu12==11.4.5.107 (from torch)\n",
            "  Downloading nvidia_cusolver_cu12-11.4.5.107-py3-none-manylinux1_x86_64.whl (124.2 MB)\n",
            "\u001b[2K     \u001b[90m━━━━━━━━━━━━━━━━━━━━━━━━━━━━━━━━━━━━━━━━\u001b[0m \u001b[32m124.2/124.2 MB\u001b[0m \u001b[31m8.5 MB/s\u001b[0m eta \u001b[36m0:00:00\u001b[0m\n",
            "\u001b[?25hCollecting nvidia-cusparse-cu12==12.1.0.106 (from torch)\n",
            "  Downloading nvidia_cusparse_cu12-12.1.0.106-py3-none-manylinux1_x86_64.whl (196.0 MB)\n",
            "\u001b[2K     \u001b[90m━━━━━━━━━━━━━━━━━━━━━━━━━━━━━━━━━━━━━━━━\u001b[0m \u001b[32m196.0/196.0 MB\u001b[0m \u001b[31m5.4 MB/s\u001b[0m eta \u001b[36m0:00:00\u001b[0m\n",
            "\u001b[?25hCollecting nvidia-nccl-cu12==2.19.3 (from torch)\n",
            "  Downloading nvidia_nccl_cu12-2.19.3-py3-none-manylinux1_x86_64.whl (166.0 MB)\n",
            "\u001b[2K     \u001b[90m━━━━━━━━━━━━━━━━━━━━━━━━━━━━━━━━━━━━━━━━\u001b[0m \u001b[32m166.0/166.0 MB\u001b[0m \u001b[31m2.5 MB/s\u001b[0m eta \u001b[36m0:00:00\u001b[0m\n",
            "\u001b[?25hCollecting nvidia-nvtx-cu12==12.1.105 (from torch)\n",
            "  Downloading nvidia_nvtx_cu12-12.1.105-py3-none-manylinux1_x86_64.whl (99 kB)\n",
            "\u001b[2K     \u001b[90m━━━━━━━━━━━━━━━━━━━━━━━━━━━━━━━━━━━━━━━━\u001b[0m \u001b[32m99.1/99.1 kB\u001b[0m \u001b[31m12.9 MB/s\u001b[0m eta \u001b[36m0:00:00\u001b[0m\n",
            "\u001b[?25hCollecting triton==2.2.0 (from torch)\n",
            "  Downloading triton-2.2.0-cp310-cp310-manylinux_2_17_x86_64.manylinux2014_x86_64.whl (167.9 MB)\n",
            "\u001b[2K     \u001b[90m━━━━━━━━━━━━━━━━━━━━━━━━━━━━━━━━━━━━━━━━\u001b[0m \u001b[32m167.9/167.9 MB\u001b[0m \u001b[31m6.8 MB/s\u001b[0m eta \u001b[36m0:00:00\u001b[0m\n",
            "\u001b[?25hCollecting nvidia-nvjitlink-cu12 (from nvidia-cusolver-cu12==11.4.5.107->torch)\n",
            "  Downloading nvidia_nvjitlink_cu12-12.4.99-py3-none-manylinux2014_x86_64.whl (21.1 MB)\n",
            "\u001b[2K     \u001b[90m━━━━━━━━━━━━━━━━━━━━━━━━━━━━━━━━━━━━━━━━\u001b[0m \u001b[32m21.1/21.1 MB\u001b[0m \u001b[31m44.6 MB/s\u001b[0m eta \u001b[36m0:00:00\u001b[0m\n",
            "\u001b[?25hRequirement already satisfied: numpy in /usr/local/lib/python3.10/dist-packages (from torchvision) (1.25.2)\n",
            "Requirement already satisfied: pillow!=8.3.*,>=5.3.0 in /usr/local/lib/python3.10/dist-packages (from torchvision) (9.4.0)\n",
            "Requirement already satisfied: MarkupSafe>=2.0 in /usr/local/lib/python3.10/dist-packages (from jinja2->torch) (2.1.5)\n",
            "Requirement already satisfied: mpmath>=0.19 in /usr/local/lib/python3.10/dist-packages (from sympy->torch) (1.3.0)\n",
            "Installing collected packages: triton, nvidia-nvtx-cu12, nvidia-nvjitlink-cu12, nvidia-nccl-cu12, nvidia-curand-cu12, nvidia-cufft-cu12, nvidia-cuda-runtime-cu12, nvidia-cuda-nvrtc-cu12, nvidia-cuda-cupti-cu12, nvidia-cublas-cu12, nvidia-cusparse-cu12, nvidia-cudnn-cu12, nvidia-cusolver-cu12, torch, torchvision, torchaudio\n",
            "  Attempting uninstall: triton\n",
            "    Found existing installation: triton 2.1.0\n",
            "    Uninstalling triton-2.1.0:\n",
            "      Successfully uninstalled triton-2.1.0\n",
            "  Attempting uninstall: torch\n",
            "    Found existing installation: torch 2.1.0+cu121\n",
            "    Uninstalling torch-2.1.0+cu121:\n",
            "      Successfully uninstalled torch-2.1.0+cu121\n",
            "  Attempting uninstall: torchvision\n",
            "    Found existing installation: torchvision 0.16.0+cu121\n",
            "    Uninstalling torchvision-0.16.0+cu121:\n",
            "      Successfully uninstalled torchvision-0.16.0+cu121\n",
            "  Attempting uninstall: torchaudio\n",
            "    Found existing installation: torchaudio 2.1.0+cu121\n",
            "    Uninstalling torchaudio-2.1.0+cu121:\n",
            "      Successfully uninstalled torchaudio-2.1.0+cu121\n",
            "\u001b[31mERROR: pip's dependency resolver does not currently take into account all the packages that are installed. This behaviour is the source of the following dependency conflicts.\n",
            "torchdata 0.7.0 requires torch==2.1.0, but you have torch 2.2.1 which is incompatible.\n",
            "torchtext 0.16.0 requires torch==2.1.0, but you have torch 2.2.1 which is incompatible.\u001b[0m\u001b[31m\n",
            "\u001b[0mSuccessfully installed nvidia-cublas-cu12-12.1.3.1 nvidia-cuda-cupti-cu12-12.1.105 nvidia-cuda-nvrtc-cu12-12.1.105 nvidia-cuda-runtime-cu12-12.1.105 nvidia-cudnn-cu12-8.9.2.26 nvidia-cufft-cu12-11.0.2.54 nvidia-curand-cu12-10.3.2.106 nvidia-cusolver-cu12-11.4.5.107 nvidia-cusparse-cu12-12.1.0.106 nvidia-nccl-cu12-2.19.3 nvidia-nvjitlink-cu12-12.4.99 nvidia-nvtx-cu12-12.1.105 torch-2.2.1 torchaudio-2.2.1 torchvision-0.17.1 triton-2.2.0\n"
          ]
        },
        {
          "output_type": "display_data",
          "data": {
            "application/vnd.colab-display-data+json": {
              "pip_warning": {
                "packages": [
                  "functorch",
                  "torch",
                  "torchgen",
                  "triton"
                ]
              },
              "id": "72345eeadc6546bb80d77fdfc6676298"
            }
          },
          "metadata": {}
        }
      ]
    },
    {
      "cell_type": "markdown",
      "metadata": {
        "id": "4qqcGtsqyvPU"
      },
      "source": [
        "For `moviepy` to work in making recordings of the environment, you will need to have the `ffmpeg` executable installed. If you are running this in Google Colab and encounter issues, run:\n",
        "\n",
        "```bash\n",
        "!apt-get install ffmpeg\n",
        "```\n",
        "\n",
        "in a code cell. If you are running this locally, you can install `ffmpeg` by following the instructions [here](https://ffmpeg.org/download.html)."
      ]
    },
    {
      "cell_type": "code",
      "source": [
        "!apt-get install ffmpeg\n"
      ],
      "metadata": {
        "colab": {
          "base_uri": "https://localhost:8080/"
        },
        "id": "nL1KZLxBzKtR",
        "outputId": "821d722a-3daf-47d6-a0f7-bf2aa51d0cb3"
      },
      "execution_count": null,
      "outputs": [
        {
          "output_type": "stream",
          "name": "stdout",
          "text": [
            "Reading package lists... Done\n",
            "Building dependency tree... Done\n",
            "Reading state information... Done\n",
            "ffmpeg is already the newest version (7:4.4.2-0ubuntu0.22.04.1).\n",
            "0 upgraded, 0 newly installed, 0 to remove and 35 not upgraded.\n"
          ]
        }
      ]
    },
    {
      "cell_type": "markdown",
      "metadata": {
        "id": "JcnKOTUjyvPU"
      },
      "source": [
        "We'll also use the following from PyTorch:\n",
        "\n",
        "-  neural networks (``torch.nn``)\n",
        "-  optimization (``torch.optim``)\n",
        "-  automatic differentiation (``torch.autograd``)\n"
      ]
    },
    {
      "cell_type": "code",
      "execution_count": null,
      "metadata": {
        "id": "7YUDScQayvPU",
        "colab": {
          "base_uri": "https://localhost:8080/"
        },
        "outputId": "62b5321c-ed40-46cb-ffad-527da19823b8"
      },
      "outputs": [
        {
          "output_type": "stream",
          "name": "stderr",
          "text": [
            "/usr/local/lib/python3.10/dist-packages/gymnasium/wrappers/record_video.py:94: UserWarning: \u001b[33mWARN: Overwriting existing videos at /content/LunarLander-v2_videos folder (try specifying a different `video_folder` for the `RecordVideo` wrapper if this is not desired)\u001b[0m\n",
            "  logger.warn(\n"
          ]
        }
      ],
      "source": [
        "from typing import Tuple, NamedTuple\n",
        "import math\n",
        "import random\n",
        "from collections import deque\n",
        "from itertools import count\n",
        "\n",
        "from pathlib import Path\n",
        "from zipfile import ZipFile\n",
        "\n",
        "import gymnasium as gym\n",
        "from gymnasium.wrappers.time_limit import TimeLimit\n",
        "from gymnasium.wrappers.record_video import RecordVideo\n",
        "import numpy as np\n",
        "from plotly.subplots import make_subplots\n",
        "import plotly.graph_objects as go\n",
        "import plotly.express as px\n",
        "\n",
        "from tqdm import trange, tqdm\n",
        "\n",
        "import torch\n",
        "import torch.nn as nn\n",
        "import torch.optim as optim\n",
        "import torch.nn.functional as F\n",
        "\n",
        "MAX_ENV_STEPS = 750\n",
        "GYM_ENV = \"LunarLander-v2\"\n",
        "VIDEOS_DIR = f\"{GYM_ENV}_videos\"\n",
        "env = gym.make(GYM_ENV, max_episode_steps=MAX_ENV_STEPS, render_mode='rgb_array')\n",
        "env = RecordVideo(env, video_folder=VIDEOS_DIR, episode_trigger=lambda x: x % 25 == 0)\n",
        "\n",
        "# if GPU is to be used\n",
        "device = torch.device(\"cuda\" if torch.cuda.is_available() else \"cpu\")"
      ]
    },
    {
      "cell_type": "markdown",
      "metadata": {
        "id": "nHgnDIebyvPU"
      },
      "source": [
        "## Replay Memory\n",
        "\n",
        "We'll be using experience replay memory for training our DQN. It stores\n",
        "the transitions that the agent observes, allowing us to reuse this data\n",
        "later. By sampling from it randomly, the transitions that build up a\n",
        "batch are decorrelated. It has been shown that this greatly stabilizes\n",
        "and improves the DQN training procedure.\n",
        "\n",
        "For this, we're going to need two classes:\n",
        "\n",
        "-  ``Transition`` - a named tuple representing a single transition in\n",
        "   our environment. It essentially maps (state, action) pairs\n",
        "   to their (next_state, reward) result, with the state being the\n",
        "   screen difference image as described later on.\n",
        "-  ``ReplayMemory`` - a cyclic buffer of bounded size that holds the\n",
        "   transitions observed recently. It also implements a ``.sample()``\n",
        "   method for selecting a random batch of transitions for training.\n",
        "\n",
        "\n"
      ]
    },
    {
      "cell_type": "code",
      "execution_count": null,
      "metadata": {
        "id": "BkS6OtKWyvPU"
      },
      "outputs": [],
      "source": [
        "class Transition(NamedTuple):\n",
        "    state: np.ndarray\n",
        "    action: int\n",
        "    next_state: np.ndarray\n",
        "    reward: float\n",
        "\n",
        "class ReplayMemory(object):\n",
        "\n",
        "    def __init__(self, capacity: int):\n",
        "        self.memory = deque([], maxlen=capacity)\n",
        "\n",
        "    def push(self, *args):\n",
        "        \"\"\"Save a transition\"\"\"\n",
        "        self.memory.append(Transition(*args))\n",
        "\n",
        "    def sample(self, batch_size):\n",
        "        return random.sample(self.memory, batch_size)\n",
        "\n",
        "    def __len__(self):\n",
        "        return len(self.memory)"
      ]
    },
    {
      "cell_type": "markdown",
      "metadata": {
        "id": "MdEPIOl7yvPU"
      },
      "source": [
        "Now, let's define our model. But first, let's quickly recap what a DQN is.\n",
        "\n",
        "## DQN algorithm\n",
        "\n",
        "Our environment is deterministic, so all equations presented here are\n",
        "also formulated deterministically for the sake of simplicity. In the\n",
        "reinforcement learning literature, they would also contain expectations\n",
        "over stochastic transitions in the environment.\n",
        "\n",
        "Our aim will be to train a policy that tries to maximize the discounted,\n",
        "cumulative reward\n",
        "$R_{t_0} = \\sum_{t=t_0}^{\\infty} \\gamma^{t - t_0} r_t$, where\n",
        "$R_{t_0}$ is also known as the *return*. The discount,\n",
        "$\\gamma$, should be a constant between $0$ and $1$\n",
        "that ensures the sum converges. A lower $\\gamma$ makes\n",
        "rewards from the uncertain far future less important for our agent\n",
        "than the ones in the near future that it can be fairly confident\n",
        "about. It also encourages agents to collect reward closer in time\n",
        "than equivalent rewards that are temporally far away in the future.\n",
        "\n",
        "The main idea behind Q-learning is that if we had a function\n",
        "$Q^*: State \\times Action \\rightarrow \\mathbb{R}$, that could tell\n",
        "us what our return would be, if we were to take an action in a given\n",
        "state, then we could easily construct a policy that maximizes our\n",
        "rewards:\n",
        "\n",
        "\\begin{align}\\pi^*(s) = \\arg\\!\\max_a \\ Q^*(s, a)\\end{align}\n",
        "\n",
        "However, we don't know everything about the world, so we don't have\n",
        "access to $Q^*$. But, since neural networks are universal function\n",
        "approximators, we can simply create one and train it to resemble\n",
        "$Q^*$.\n",
        "\n",
        "For our training update rule, we'll use a fact that every $Q$\n",
        "function for some policy obeys the Bellman equation:\n",
        "\n",
        "\\begin{align}Q^{\\pi}(s, a) = r + \\gamma Q^{\\pi}(s', \\pi(s'))\\end{align}\n",
        "\n",
        "The difference between the two sides of the equality is known as the\n",
        "temporal difference error, $\\delta$:\n",
        "\n",
        "\\begin{align}\\delta = Q(s, a) - (r + \\gamma \\max_a' Q(s', a))\\end{align}\n",
        "\n",
        "To minimize this error, we will use the [Huber\n",
        "loss](https://en.wikipedia.org/wiki/Huber_loss)_. The Huber loss acts\n",
        "like the mean squared error when the error is small, but like the mean\n",
        "absolute error when the error is large - this makes it more robust to\n",
        "outliers when the estimates of $Q$ are very noisy. We calculate\n",
        "this over a batch of transitions, $B$, sampled from the replay\n",
        "memory:\n",
        "\n",
        "\\begin{align}\\mathcal{L} = \\frac{1}{|B|}\\sum_{(s, a, s', r) \\ \\in \\ B} \\mathcal{L}(\\delta)\\end{align}\n",
        "\n",
        "\\begin{align}\\text{where} \\quad \\mathcal{L}(\\delta) = \\begin{cases}\n",
        "     \\frac{1}{2}{\\delta^2}  & \\text{for } |\\delta| \\le 1, \\\\\n",
        "     |\\delta| - \\frac{1}{2} & \\text{otherwise.}\n",
        "   \\end{cases}\\end{align}\n",
        "\n",
        "### Q-network\n",
        "\n",
        "Our model will be a feed forward  neural network that takes in the\n",
        "difference between the current and previous screen patches. It has two\n",
        "outputs, representing $Q(s, \\mathrm{left})$ and\n",
        "$Q(s, \\mathrm{right})$ (where $s$ is the input to the\n",
        "network). In effect, the network is trying to predict the *expected return* of\n",
        "taking each action given the current input.\n",
        "\n",
        "\n"
      ]
    },
    {
      "cell_type": "code",
      "execution_count": null,
      "metadata": {
        "id": "EKz5ZCJFyvPV"
      },
      "outputs": [],
      "source": [
        "class DQN(nn.Module):\n",
        "\n",
        "    def __init__(self, n_observations: int, n_actions: int):\n",
        "        super(DQN, self).__init__()\n",
        "        self.layer1 = nn.Linear(n_observations, 128)\n",
        "        self.layer2 = nn.Linear(128, 128)\n",
        "        self.layer3 = nn.Linear(128, n_actions)\n",
        "\n",
        "    # Called with either one element to determine next action, or a batch\n",
        "    # during optimization. Returns tensor([[left0exp,right0exp]...]).\n",
        "    def forward(self, x):\n",
        "        x = F.relu(self.layer1.forward(x))\n",
        "        x = F.relu(self.layer2.forward(x))\n",
        "        return self.layer3.forward(x)"
      ]
    },
    {
      "cell_type": "markdown",
      "metadata": {
        "id": "kYWJ9aItyvPV"
      },
      "source": [
        "## Training\n",
        "\n",
        "### Hyperparameters and utilities\n",
        "This cell instantiates our model and its optimizer, and defines some\n",
        "utilities:\n",
        "\n",
        "-  ``select_action`` - will select an action accordingly to an epsilon\n",
        "   greedy policy. Simply put, we'll sometimes use our model for choosing\n",
        "   the action, and sometimes we'll just sample one uniformly. The\n",
        "   probability of choosing a random action will start at ``EPS_START``\n",
        "   and will decay exponentially towards ``EPS_END``. ``EPS_DECAY``\n",
        "   controls the rate of the decay.\n",
        "-  ``plot_durations`` - a helper for plotting the duration of episodes,\n",
        "   along with an average over the last 100 episodes (the measure used in\n",
        "   the official evaluations). The plot will be underneath the cell\n",
        "   containing the main training loop, and will update after every\n",
        "   episode.\n",
        "\n",
        "\n"
      ]
    },
    {
      "cell_type": "code",
      "execution_count": null,
      "metadata": {
        "id": "i7c0TgA1yvPV"
      },
      "outputs": [],
      "source": [
        "# BATCH_SIZE is the number of transitions sampled from the replay buffer\n",
        "# GAMMA is the discount factor as mentioned in the previous section\n",
        "# EPS_START is the starting value of epsilon\n",
        "# EPS_END is the final value of epsilon\n",
        "# EPS_DECAY controls the rate of exponential decay of epsilon, higher means a slower decay\n",
        "# TAU is the update rate of the target network\n",
        "# LR is the learning rate of the ``AdamW`` optimizer\n",
        "BATCH_SIZE = 128\n",
        "GAMMA = 0.99\n",
        "EPS_START = 0.1\n",
        "EPS_END = 0.02\n",
        "EPS_DECAY = 4000\n",
        "TAU = 0.01\n",
        "LR = 1e-4\n",
        "\n",
        "# Get number of actions from gym action space\n",
        "n_actions: int = int(env.action_space.n)  # type: ignore\n",
        "# Get the number of state observations\n",
        "state, info = env.reset()\n",
        "n_observations: int = len(state)\n",
        "\n",
        "policy_net_decompiled = DQN(n_observations, n_actions).to(device)\n",
        "policy_net: torch.jit.ScriptModule = torch.jit.script(policy_net_decompiled)  # type: ignore\n",
        "target_net_decompiled = DQN(n_observations, n_actions).to(device)\n",
        "target_net: torch.jit.ScriptModule = torch.jit.script(target_net_decompiled)  # type: ignore\n",
        "target_net.load_state_dict(policy_net.state_dict())\n",
        "\n",
        "optimizer = optim.AdamW(policy_net.parameters(), lr=LR, amsgrad=True, capturable=False)\n",
        "memory = ReplayMemory(10000)\n",
        "\n",
        "\n",
        "def select_action(state: torch.Tensor, steps_done: int):\n",
        "    sample = torch.rand(1, dtype=torch.float16, requires_grad=False)\n",
        "    eps_threshold = EPS_END + (EPS_START - EPS_END) * math.exp(\n",
        "        -1.0 * steps_done / EPS_DECAY\n",
        "    )\n",
        "    if sample > eps_threshold:\n",
        "        with torch.no_grad():\n",
        "            # t.max(1) will return the largest column value of each row.\n",
        "            # second column on max result is index of where max element was\n",
        "            # found, so we pick action with the larger expected reward.\n",
        "            return policy_net(state).max(1).indices.view(1, 1)\n",
        "    else:\n",
        "        return torch.tensor(\n",
        "            [[env.action_space.sample()]], device=device, dtype=torch.long\n",
        "        )\n",
        "\n",
        "\n",
        "class PlotDurations:\n",
        "    def __init__(self) -> None:\n",
        "        fig = make_subplots(\n",
        "            rows=2,\n",
        "            cols=1,\n",
        "            shared_xaxes=True,\n",
        "            vertical_spacing=0.02,\n",
        "            subplot_titles=(\"Episode Duration\", \"Episode Reward\"),\n",
        "        )\n",
        "        fig.add_trace(\n",
        "            go.Scatter(x=[], y=[], mode=\"lines\", name=\"Duration\"), row=1, col=1\n",
        "        )\n",
        "        fig.add_trace(\n",
        "            go.Scatter(x=[], y=[], mode=\"lines\", name=\"Reward\"), row=2, col=1\n",
        "        )\n",
        "        fig.add_trace(\n",
        "            go.Scatter(\n",
        "                x=[],\n",
        "                y=[],\n",
        "                mode=\"lines\",\n",
        "                name=\"Duration (100 episode average)\",\n",
        "            ),\n",
        "            row=1,\n",
        "            col=1,\n",
        "        )\n",
        "        fig.add_trace(\n",
        "            go.Scatter(\n",
        "                x=[],\n",
        "                y=[],\n",
        "                mode=\"lines\",\n",
        "                name=\"Reward (100 episode average)\",\n",
        "            ),\n",
        "            row=2,\n",
        "            col=1,\n",
        "        )\n",
        "        fig.update_layout(\n",
        "            title=\"Training...\",\n",
        "            showlegend=False,\n",
        "            margin=dict(l=0, r=0, t=30, b=0),\n",
        "        )\n",
        "        fig.update_yaxes(title_text=\"Duration\", row=1, col=1)\n",
        "        fig.update_yaxes(title_text=\"Reward\", row=2, col=1)\n",
        "        fig.update_xaxes(title_text=\"Episode\", row=2, col=1)\n",
        "        self.fig_widget = go.FigureWidget(fig)\n",
        "\n",
        "        try:\n",
        "            import IPython.display as ipdisplay\n",
        "\n",
        "            self.ipdisplay = ipdisplay\n",
        "        except ImportError:\n",
        "            self.ipdisplay = None\n",
        "\n",
        "    def show(self):\n",
        "        self.fig_widget.show()\n",
        "\n",
        "    def update(self, episode_duration: int, episode_reward: float, redisplay: bool=True):\n",
        "        duration_scatter: go.Scatter = self.fig_widget.data[0]  # type: ignore\n",
        "        reward_scatter: go.Scatter = self.fig_widget.data[1]  # type: ignore\n",
        "        episode = len(duration_scatter.x) + 1  # type: ignore\n",
        "        new_episode_axis: Tuple[int] = duration_scatter.x + (episode,)  # type: ignore\n",
        "        new_duration_axis: Tuple[int] = duration_scatter.y + (episode_duration,)  # type: ignore\n",
        "        new_reward_axis: Tuple[int] = reward_scatter.y + (episode_reward,)  # type: ignore\n",
        "        with self.fig_widget.batch_update():\n",
        "            duration_scatter.x = new_episode_axis\n",
        "            reward_scatter.x = new_episode_axis\n",
        "            duration_scatter.y = new_duration_axis\n",
        "            reward_scatter.y = new_reward_axis\n",
        "\n",
        "        if redisplay and (self.ipdisplay is not None):\n",
        "            self.ipdisplay.clear_output(wait=True)\n",
        "            self.fig_widget.show()\n",
        "\n",
        "    def finish(self, title: str = \"Results\"):\n",
        "        self.fig_widget.update_layout(title=title)\n",
        "\n",
        "\n",
        "plot_durations = PlotDurations()"
      ]
    },
    {
      "cell_type": "markdown",
      "metadata": {
        "id": "XcU6Q2zwyvPV"
      },
      "source": [
        "### Training loop\n",
        "\n",
        "Finally, the code for training our model.\n",
        "\n",
        "Here, you can find an ``optimize_model`` function that performs a\n",
        "single step of the optimization. It first samples a batch, concatenates\n",
        "all the tensors into a single one, computes $Q(s_t, a_t)$ and\n",
        "$V(s_{t+1}) = \\max_a Q(s_{t+1}, a)$, and combines them into our\n",
        "loss. By definition we set $V(s) = 0$ if $s$ is a terminal\n",
        "state. We also use a target network to compute $V(s_{t+1})$ for\n",
        "added stability. The target network is updated at every step with a\n",
        "[soft update](https://arxiv.org/pdf/1509.02971.pdf) controlled by\n",
        "the hyperparameter ``TAU``, which was previously defined.\n",
        "\n",
        "\n"
      ]
    },
    {
      "cell_type": "code",
      "execution_count": null,
      "metadata": {
        "id": "sCYUP6xcyvPV"
      },
      "outputs": [],
      "source": [
        "@torch.compile(fullgraph=True)\n",
        "def do_optimization_inner(state_batch, action_batch, reward_batch, non_final_next_states, non_final_mask):\n",
        "    # Compute Q(s_t, a) - the model computes Q(s_t), then we select the\n",
        "    # columns of actions taken. These are the actions which would've been taken\n",
        "    # for each batch state according to policy_net\n",
        "    state_action_values = policy_net_decompiled(state_batch).gather(1, action_batch)\n",
        "\n",
        "    # Compute V(s_{t+1}) for all next states.\n",
        "    # Expected values of actions for non_final_next_states are computed based\n",
        "    # on the \"older\" target_net; selecting their best reward with max(1).values\n",
        "    # This is merged based on the mask, such that we'll have either the expected\n",
        "    # state value or 0 in case the state was final.\n",
        "    next_state_values = torch.zeros(BATCH_SIZE, device=device)\n",
        "    with torch.no_grad():\n",
        "        next_state_values[non_final_mask] = target_net_decompiled(non_final_next_states).max(1).values\n",
        "    # Compute the expected Q values\n",
        "    expected_state_action_values = (next_state_values * GAMMA) + reward_batch\n",
        "\n",
        "    # Compute Huber loss\n",
        "    loss = nn.functional.smooth_l1_loss(state_action_values, expected_state_action_values.unsqueeze(1))\n",
        "\n",
        "    return loss\n",
        "\n",
        "def optimize_model():\n",
        "    if len(memory) < BATCH_SIZE:\n",
        "        return\n",
        "    transitions = memory.sample(BATCH_SIZE)\n",
        "    # Transpose the batch (see https://stackoverflow.com/a/19343/3343043 for\n",
        "    # detailed explanation). This converts batch-array of Transitions\n",
        "    # to Transition of batch-arrays.\n",
        "    batch = Transition(*zip(*transitions))\n",
        "\n",
        "    # Compute a mask of non-final states and concatenate the batch elements\n",
        "    # (a final state would've been the one after which simulation ended)\n",
        "    non_final_mask = torch.tensor(tuple(map(lambda s: s is not None,\n",
        "                                          batch.next_state)), device=device, dtype=torch.bool)\n",
        "    non_final_next_states = torch.cat([s for s in batch.next_state\n",
        "                                                if s is not None])\n",
        "    state_batch = torch.cat(batch.state)\n",
        "    action_batch = torch.cat(batch.action)\n",
        "    reward_batch = torch.cat(batch.reward)\n",
        "\n",
        "    loss = do_optimization_inner(state_batch, action_batch, reward_batch, non_final_next_states, non_final_mask)\n",
        "\n",
        "    # Optimize the model\n",
        "    optimizer.zero_grad()\n",
        "    loss.backward()\n",
        "    # In-place gradient clipping\n",
        "    torch.nn.utils.clip_grad_value_(policy_net.parameters(), 100)\n",
        "    optimizer.step()"
      ]
    },
    {
      "cell_type": "code",
      "execution_count": null,
      "metadata": {
        "id": "2_6FYZSnyvPV"
      },
      "outputs": [],
      "source": [
        "@torch.compile(fullgraph=True)\n",
        "@torch.no_grad\n",
        "def policy_net_update():\n",
        "    # Soft update of the target network's weights\n",
        "    # θ′ ← τ θ + (1 −τ )θ′\n",
        "    for target_net_param, policy_net_param in zip(target_net_decompiled.parameters(), policy_net_decompiled.parameters()):\n",
        "        torch.Tensor.lerp_(target_net_param, policy_net_param, TAU)"
      ]
    },
    {
      "cell_type": "markdown",
      "metadata": {
        "id": "HhVfho11yvPW"
      },
      "source": [
        "Below, you can find the main training loop. At the beginning we reset\n",
        "the environment and obtain the initial ``state`` Tensor. Then, we sample\n",
        "an action, execute it, observe the next state and the reward (always\n",
        "1), and optimize our model once. When the episode ends (our model\n",
        "fails), we restart the loop.\n",
        "\n",
        "Below, `num_episodes` is set to 600. Training RL agents can be a\n",
        "noisy process, so restarting training can produce better results\n",
        "if convergence is not observed.\n",
        "\n",
        "**== EPILEPSY WARNING: The training graph in the cell below may flash repeatedly during training in Google Colab. ==**\n",
        "\n",
        "If you are sensitive to flashing lights, set `DISPLAY_GRAPH_DURING_TRAINING` to `False` in the cell below,\n",
        "and the graph will only be displayed at the end of training."
      ]
    },
    {
      "cell_type": "code",
      "execution_count": null,
      "metadata": {
        "colab": {
          "base_uri": "https://localhost:8080/",
          "height": 1000
        },
        "id": "2KtH5bEJyvPW",
        "outputId": "2af32c00-39b9-477a-e19a-a929dbf78486"
      },
      "outputs": [
        {
          "output_type": "display_data",
          "data": {
            "text/html": [
              "<html>\n",
              "<head><meta charset=\"utf-8\" /></head>\n",
              "<body>\n",
              "    <div>            <script src=\"https://cdnjs.cloudflare.com/ajax/libs/mathjax/2.7.5/MathJax.js?config=TeX-AMS-MML_SVG\"></script><script type=\"text/javascript\">if (window.MathJax && window.MathJax.Hub && window.MathJax.Hub.Config) {window.MathJax.Hub.Config({SVG: {font: \"STIX-Web\"}});}</script>                <script type=\"text/javascript\">window.PlotlyConfig = {MathJaxConfig: 'local'};</script>\n",
              "        <script charset=\"utf-8\" src=\"https://cdn.plot.ly/plotly-2.24.1.min.js\"></script>                <div id=\"a2c23ed0-9973-4f0d-990e-4e51a729eb32\" class=\"plotly-graph-div\" style=\"height:525px; width:100%;\"></div>            <script type=\"text/javascript\">                                    window.PLOTLYENV=window.PLOTLYENV || {};                                    if (document.getElementById(\"a2c23ed0-9973-4f0d-990e-4e51a729eb32\")) {                    Plotly.newPlot(                        \"a2c23ed0-9973-4f0d-990e-4e51a729eb32\",                        [{\"mode\":\"lines\",\"name\":\"Duration\",\"x\":[1,2,3,4,5,6,7,8,9,10,11,12,13,14,15,16,17,18,19,20,21,22,23,24,25,26,27,28,29,30,31,32,33,34,35,36,37,38,39,40,41,42,43,44,45,46,47,48,49,50,51,52,53,54,55,56,57,58,59,60,61,62,63,64,65,66,67,68,69,70,71,72,73,74,75,76,77,78,79,80,81,82,83,84,85,86,87,88,89,90,91,92,93,94,95,96,97,98,99,100,101,102,103,104,105,106,107,108,109,110,111,112,113,114,115,116,117,118,119,120,121,122,123,124,125,126,127,128,129,130,131,132,133,134,135,136,137,138,139,140,141,142,143,144,145,146,147,148,149,150,151,152,153,154,155,156,157,158,159,160,161,162,163,164,165,166,167,168,169,170,171,172,173,174,175,176,177,178,179,180,181,182,183,184,185,186,187,188,189,190,191,192,193,194,195,196,197,198,199,200,201,202,203,204,205,206,207,208,209,210,211,212,213,214,215,216,217,218,219,220,221,222,223,224,225,226,227,228,229,230,231,232,233,234,235,236,237,238,239,240,241,242,243,244,245,246,247,248,249,250,251,252,253,254,255,256,257,258,259,260,261,262,263,264,265,266,267,268,269,270,271,272,273,274,275,276,277,278,279,280,281,282,283,284,285,286,287,288,289,290,291,292,293,294,295,296,297,298,299,300,301,302,303,304,305,306,307,308,309,310,311,312,313,314,315,316,317,318,319,320,321,322,323,324,325,326,327,328,329,330,331,332,333,334,335,336,337,338,339,340,341,342,343,344,345,346,347,348,349,350,351,352,353,354,355,356,357,358,359,360,361,362,363,364,365,366,367,368,369,370,371,372,373,374,375,376,377,378,379,380,381,382,383,384,385,386,387,388,389,390,391,392,393,394,395,396,397,398,399,400,401,402,403,404,405,406,407,408,409,410,411,412,413,414,415,416,417,418,419,420,421,422,423,424,425,426,427,428,429,430,431,432,433,434,435,436,437,438,439,440,441,442,443,444,445,446,447,448,449,450,451,452,453,454,455,456,457,458,459,460,461,462,463,464,465,466,467,468,469,470,471,472,473,474,475,476,477,478,479,480,481,482,483,484,485,486,487,488,489,490,491,492,493,494,495,496,497,498,499,500,501,502,503,504,505,506,507,508,509,510,511,512,513,514,515,516,517,518,519,520,521,522,523,524,525,526,527,528,529,530,531,532,533,534,535,536,537,538,539,540,541,542,543,544,545,546,547,548,549,550,551,552,553,554,555,556,557,558,559,560,561,562,563,564,565,566,567,568,569,570,571,572,573,574,575,576,577,578,579,580,581,582,583,584,585,586,587,588,589,590,591,592,593,594,595,596,597,598,599,600],\"xaxis\":\"x\",\"y\":[232,70,79,113,80,74,354,219,171,146,106,139,175,138,630,153,749,331,253,297,220,110,207,279,113,461,122,105,304,304,372,168,451,596,749,377,427,505,521,548,346,212,533,209,321,288,430,749,749,749,749,749,749,749,658,749,749,749,749,749,197,749,749,749,669,373,749,228,356,518,391,272,109,389,499,390,403,302,351,224,180,136,182,361,325,251,262,354,131,188,357,258,405,278,395,624,338,234,344,553,410,223,666,200,341,232,222,386,276,199,472,698,251,266,496,486,238,496,573,479,394,553,408,284,361,582,408,226,742,501,309,524,313,311,353,273,408,467,280,594,363,270,221,369,450,209,398,272,391,245,370,247,252,474,357,362,591,458,413,437,374,540,345,321,333,310,361,490,414,724,353,429,637,492,749,241,560,472,715,698,556,749,316,378,418,225,284,429,531,749,461,648,394,336,498,299,520,376,304,749,749,289,358,395,377,295,363,636,402,704,638,749,422,383,289,649,276,529,309,334,743,176,393,427,317,461,183,728,640,391,272,283,314,382,252,174,357,163,350,360,491,167,749,477,316,145,255,160,171,213,256,749,387,151,749,274,298,136,145,593,533,130,141,695,304,332,749,268,392,608,692,553,628,699,146,446,257,141,228,567,520,340,749,186,749,452,706,477,414,261,374,540,468,749,496,549,556,330,350,749,749,475,345,313,706,550,520,430,523,656,386,648,749,522,396,749,528,749,749,711,545,749,749,749,522,564,749,634,749,749,749,705,485,726,736,646,749,179,565,260,749,475,749,669,462,608,278,554,501,436,337,489,685,292,699,357,270,530,386,457,435,718,335,689,581,749,749,342,303,530,508,650,290,427,749,504,236,270,749,239,424,491,322,749,749,437,686,749,444,692,749,163,749,157,749,749,585,749,749,655,476,749,275,749,387,749,749,749,668,749,749,356,749,667,289,387,749,749,749,749,749,279,749,749,625,749,309,349,749,279,559,749,402,545,749,547,749,498,749,749,749,461,640,749,332,555,749,749,655,749,609,749,749,749,694,749,749,749,749,749,749,749,749,749,749,749,749,749,749,749,749,685,485,749,749,629,749,590,585,451,384,338,335,317,327,749,542,749,749,749,749,749,352,749,420,749,749,749,461,749,749,749,749,706,749,749,749,749,363,196,294,283,749,749,248,749,749,312,749,749,749,749,425,749,443,749,749,361,749,264,749,749,292,337,390,300,749,314,395,359,334,278,271,689,418,283,427,318,190,392,749,749,749,749,413,251,749,749,749,222,268,287,248,296,290,749,749,749,749,749,294,749,275,548,749,170,749,749,749,614,325,749,213,319,264,749,298,749,270,307,633,508,749,245,279,284,274,292,639,189],\"yaxis\":\"y\",\"type\":\"scatter\",\"uid\":\"ba489732-ef50-43c6-a0d0-53be955c5017\"},{\"mode\":\"lines\",\"name\":\"Reward\",\"x\":[1,2,3,4,5,6,7,8,9,10,11,12,13,14,15,16,17,18,19,20,21,22,23,24,25,26,27,28,29,30,31,32,33,34,35,36,37,38,39,40,41,42,43,44,45,46,47,48,49,50,51,52,53,54,55,56,57,58,59,60,61,62,63,64,65,66,67,68,69,70,71,72,73,74,75,76,77,78,79,80,81,82,83,84,85,86,87,88,89,90,91,92,93,94,95,96,97,98,99,100,101,102,103,104,105,106,107,108,109,110,111,112,113,114,115,116,117,118,119,120,121,122,123,124,125,126,127,128,129,130,131,132,133,134,135,136,137,138,139,140,141,142,143,144,145,146,147,148,149,150,151,152,153,154,155,156,157,158,159,160,161,162,163,164,165,166,167,168,169,170,171,172,173,174,175,176,177,178,179,180,181,182,183,184,185,186,187,188,189,190,191,192,193,194,195,196,197,198,199,200,201,202,203,204,205,206,207,208,209,210,211,212,213,214,215,216,217,218,219,220,221,222,223,224,225,226,227,228,229,230,231,232,233,234,235,236,237,238,239,240,241,242,243,244,245,246,247,248,249,250,251,252,253,254,255,256,257,258,259,260,261,262,263,264,265,266,267,268,269,270,271,272,273,274,275,276,277,278,279,280,281,282,283,284,285,286,287,288,289,290,291,292,293,294,295,296,297,298,299,300,301,302,303,304,305,306,307,308,309,310,311,312,313,314,315,316,317,318,319,320,321,322,323,324,325,326,327,328,329,330,331,332,333,334,335,336,337,338,339,340,341,342,343,344,345,346,347,348,349,350,351,352,353,354,355,356,357,358,359,360,361,362,363,364,365,366,367,368,369,370,371,372,373,374,375,376,377,378,379,380,381,382,383,384,385,386,387,388,389,390,391,392,393,394,395,396,397,398,399,400,401,402,403,404,405,406,407,408,409,410,411,412,413,414,415,416,417,418,419,420,421,422,423,424,425,426,427,428,429,430,431,432,433,434,435,436,437,438,439,440,441,442,443,444,445,446,447,448,449,450,451,452,453,454,455,456,457,458,459,460,461,462,463,464,465,466,467,468,469,470,471,472,473,474,475,476,477,478,479,480,481,482,483,484,485,486,487,488,489,490,491,492,493,494,495,496,497,498,499,500,501,502,503,504,505,506,507,508,509,510,511,512,513,514,515,516,517,518,519,520,521,522,523,524,525,526,527,528,529,530,531,532,533,534,535,536,537,538,539,540,541,542,543,544,545,546,547,548,549,550,551,552,553,554,555,556,557,558,559,560,561,562,563,564,565,566,567,568,569,570,571,572,573,574,575,576,577,578,579,580,581,582,583,584,585,586,587,588,589,590,591,592,593,594,595,596,597,598,599,600],\"xaxis\":\"x2\",\"y\":[-504.2683569605267,-542.1463655205548,-656.7014254627629,-400.6764380174127,-137.8583953385005,-176.34890372335485,200.53892487282167,-261.3687321030412,-298.7850059869421,-222.52988595930398,-132.6497229283438,-253.00214884790077,-109.91609875734846,-194.75641176002557,166.6651565060547,-239.10522707625077,-24.626078120554165,-152.06937316671676,-71.95758161342745,-145.25611654804808,-86.776842344028,-82.76668895876884,-89.47503912631774,-113.18753156408549,-76.05261712691464,-138.08232392608363,18.298617349144607,-81.53393566004348,-97.3519119145255,-104.15370556776355,-129.25890557097648,-69.08089408070965,-119.95354608892927,-138.6322020359362,11.120871896478663,-90.45051910542978,-107.42920470550297,-190.96432012283492,-171.4944380111407,-119.13291438052973,-128.7150871096154,-74.3460122808976,129.7794890144824,-106.0247230416319,-102.01709441296671,-112.92198266436435,-106.27095169782217,-93.01229163927273,-80.06360477151294,-53.922688497487194,-27.230599307239203,-48.06987236218484,-95.53121216058392,-73.52349563123359,-106.02656124875992,28.259865827159743,21.816270914090506,-23.507535671402238,26.629659512843592,-29.299115807830017,-26.399673459440834,-16.636278620016814,-8.051446091098759,20.19499674264036,170.00570576493277,3.8213123067326364,101.90000212853008,-71.06614238335322,37.26230352015034,254.61453311765885,193.20115142468154,6.892581899464091,-79.41497373920147,232.72423617364433,217.3972833803649,228.43716595242535,226.7498721232445,22.30010601691778,-26.083979814257518,-37.452929325296964,-12.338690956443145,-23.246627148241373,-32.55687190925495,-9.143656594343582,235.24789506257127,226.60773413617383,12.317461074495867,256.1076902180897,-44.29013335677446,-18.058897321684256,16.707027569732674,4.701941862718698,-15.692593125816572,8.549066207347806,234.1761672994394,170.13994786575466,253.4088773357799,8.372461128103808,239.84506941777826,184.99984906548013,232.2619576349605,23.278655602757055,207.89795277016532,-8.30602188122306,261.11575541212164,36.50488895017173,24.33459192514232,181.57865807225903,32.83393991077284,-10.453434416255988,186.6146692650381,127.86309252506537,-15.525524924547966,-27.97670450296451,218.02232913349656,219.17827646843966,-1.5348823468481783,233.14669264756384,223.03673888018466,219.87152808954244,250.56027262899568,200.80239883035634,255.78123038290818,261.9364891462333,268.04165997541037,192.37733593155818,210.90822028663723,-2.5561004593373866,154.4320763582238,162.19447700620424,245.31883627469915,190.0145754749949,-27.971619822055615,240.32261479975608,240.8035598414608,-28.997555474278755,208.39666614555696,232.84925937868337,-12.768238249552823,-62.84247230104671,245.7815511894746,-23.03293493017638,-22.97986074985036,-52.939608831531146,-27.234019214745814,-46.1786755111811,225.2642975597626,8.975762432320536,-41.70053725414492,-36.20642971756142,227.624470198326,256.38267019739305,0.5939207357820067,215.3849960998561,226.63588308821244,222.33165708620737,240.51690592081584,184.28001362170676,240.6571790203679,225.44080582819765,245.33620001309308,243.49189989145907,259.7836902463886,4.042212535755979,250.0397099392368,242.90986461890503,260.544452207708,242.1771246581248,221.74534887885306,216.34782730438872,262.5227831448893,246.41077540620262,176.39726991294899,216.77174184260215,78.16520628348682,-16.302877748566075,188.15621036091926,204.52173462714694,189.40421359969554,168.00025175168307,221.39285906319748,1.7251310580196728,-37.88377377003326,220.7550415215327,-36.36409279314857,-19.514041049817806,-1.2639568577512819,199.95976941715392,198.95554041715567,35.9604667799661,206.726838365071,204.64635641844143,247.64617152759376,267.1723770899716,202.67314206540337,-12.84893667442411,217.23905259312983,-42.49370469665165,-5.206799602480643,31.61856221258109,131.68130630628033,259.33377780533624,224.16598916720415,243.60628345867136,229.27700937783885,250.2972973969711,269.68575987839773,-93.28232133752036,235.941627850394,204.85281958663612,178.13793690292158,110.70342231064016,225.66252501368268,-15.721752183679442,237.59641891706028,201.07360740721347,255.48041597923466,-48.020794032949325,253.44296971600366,205.41644795133658,232.9944309070625,-4.501382863069125,218.12088403384067,228.63279390950683,212.01390823430611,189.2371544562189,6.813732818829763,185.96867457236954,233.23750086975093,208.8824675405296,-8.882234526868217,-45.04749287633335,-62.875312625549086,218.08736011909937,1.9747910776849267,-12.445513836658122,194.64526321280061,1.4736314727148851,197.66044977593924,226.66812232252516,223.28656105842106,8.210189587614337,129.12417914834018,172.3543409346853,-31.78257731782601,-23.178858594795855,10.635886451605373,211.61723443494463,31.774320029870637,-23.94268755736124,215.15286990869362,76.38025616448934,215.68312782441132,-9.72307380343311,100.5477195401476,250.11795707621184,-9.974985039463121,-37.775754084810174,14.479402972652693,244.76955771574438,247.13170683837322,-54.43313251846061,-12.205506141475567,234.92283237861227,265.6230784722841,261.64198336824995,84.82780947405904,-26.69455727324967,257.6245077724277,212.5811886973179,209.10324583415394,193.58194688696213,163.70659955010973,210.78051557319236,-68.8066643114013,263.44033855311153,-48.851009584231264,-39.46601260350003,-39.06431286711506,198.12112554020916,222.1804179054434,200.9997520235038,13.532561921590773,21.51517268263008,68.61171589952974,235.88305862008616,160.43860720347962,218.78770529246987,205.40933238849016,14.510171197682638,246.90490330018784,227.21543149421024,251.3154214887524,147.33158620164386,215.5571506990146,220.83343986173207,236.35372965252242,212.93116217574544,228.57195557767838,88.53497967766931,95.45001286755465,228.61904743487597,239.12632399871296,208.95827312532833,174.46199557501575,214.38002606240389,223.75787205751448,213.1535442645888,208.09535855061878,184.02783604816887,242.84864631051417,187.90293373860084,65.89208111047994,-37.37919217072809,193.63730938974265,36.93559641110878,164.00771479677826,64.65709554050045,69.94834753996187,-84.75658727094815,-29.39796833081428,67.6315745567248,21.107673709145423,91.64204315622963,182.1500015047967,-71.07265562528258,122.90461511752844,199.09053433839583,54.240719886135146,67.5349826084646,75.40296645469805,260.467337449026,185.24651775476286,156.29468932991088,149.41251446339587,195.47967934105574,22.759782017853407,-22.346468298370084,167.87354242154083,314.4291010142717,1.2011591953628922,209.08586366445655,60.81960208501832,152.59969143254852,204.00139674724267,164.07889838485738,283.5618940445038,181.62934304137724,191.0441346949592,229.1991872511942,-14.805225651423555,244.54296469670243,191.3276370387639,277.8709672646915,199.61641876752645,227.157125667255,292.5378896349549,198.65168942029496,227.11910480070992,205.53416692994062,207.6270936236948,165.21653109228265,262.687923763654,-149.70129876972769,-74.09874530880656,6.480129250796097,69.60268860272824,207.24560943490485,272.0710619127375,204.2830670556026,-59.089676944997194,159.30713725003517,273.9373584640166,203.00859855038283,45.46477078673508,162.494680788011,28.796165039220483,187.4747053088492,130.024646535107,7.46790391588145,188.6040988331011,210.92156673334836,162.9453420953976,-26.68223880323575,-3.352474412995325,196.46770497017533,209.87194914999435,-14.931140067072867,170.57628620267462,214.72023729329413,-42.42324008637636,-3.8287319990945434,85.75350082877368,-12.31779037459306,39.49855496170592,75.59294773610253,183.4448180056541,46.854748016230495,178.29792467803347,253.07565528734997,223.13604312519197,107.83562892787104,63.22751582221747,-42.404828967146805,-78.94860483662839,13.487064126440261,162.69810611641225,152.57451562478275,151.35237899856332,76.53159650846422,75.8260377290224,234.21226629179796,110.60762109737375,139.77811786299122,160.8319959543768,-15.296306831341681,6.726161482232866,46.64487925130261,111.76111383148424,18.71588111436426,45.996553442862094,281.5407623297977,124.36762563268928,149.77986234347125,149.1564957151263,72.33895733311006,237.99050243116722,-15.769192629894263,146.02565597463192,238.59106605399114,239.45518227824476,181.10081173753431,239.9168703842831,169.38687559199028,87.11617382470695,131.72481043669438,150.86523296366053,188.90693911831136,71.6357318826796,124.10277864203977,94.06273503048097,177.86126453273056,257.43496052958716,100.64145619162962,302.2000568703516,158.562160759218,-1.3618470380025676,31.732617035120825,181.92882300908857,40.54477385139003,244.04693308173051,124.35108932714611,116.48254898780579,64.60932523191511,161.97109536764287,115.08120963479014,51.06817312776296,77.9769429883594,44.40649026479215,84.98893741174062,69.04421136348498,18.19846022826479,63.88110864268868,51.77503152781766,48.639612636343,37.916663311817146,109.50718740546539,33.36269285741147,67.28251849688158,57.23185689215873,70.88174207370527,199.21194891406503,196.0335488061282,90.57019309075366,50.163710710980524,187.81788581116427,68.94956331890334,192.64677059890266,225.96998517979705,261.0865227840203,271.1990867932054,217.42635286781805,238.71448453076744,277.63949688867336,210.95748724152202,123.62393658398638,216.77314426846772,180.92079346691065,131.49545401311352,161.15161418737767,143.0299605898739,146.02444749784124,242.32050739239418,140.9272346268386,247.30891054174216,127.5555901411434,125.67996852984446,175.68762366539133,265.9133742081259,98.60182818023436,159.1604480121765,115.39630575583233,125.67383715015129,240.50488038330977,137.4740777179095,154.87355384637019,169.20975254304446,152.87570727563013,238.6996303492731,6.07891566408324,273.31690219026046,-7.030483696320317,181.4644394586273,184.9884361393939,288.7132766351546,136.4901114193715,138.1342561939038,264.2786544042947,134.22495587616996,150.33562599494894,175.73536271733317,122.81829430551001,220.33181066501606,182.6636981062323,224.2001854305599,159.62564041652104,126.7895581866053,244.75487700954258,105.73217447351949,41.368548908199756,108.79663116456041,146.51260353581466,239.00274207786845,273.5677537014391,254.25198565581428,275.5529132222013,110.49587522889941,263.76665442606884,209.187199844484,221.10861003199904,266.84572921616973,274.5163441348474,256.92442322117984,246.06287329934042,224.61360898444627,224.16995058919798,251.56855684402373,242.74229062583976,46.55748553975397,229.5488952302266,168.0431104983025,136.66461055868038,135.5803058465956,166.59766885866088,253.8451869851671,305.34178425375023,195.83356467986602,133.57887803682678,150.611258498522,284.28977631674513,267.86815917934507,278.25026807457584,249.39453467608217,264.46366144585875,243.88100864529386,156.94192568714863,143.10018904582768,180.86773481331758,179.404036791281,140.26469445097965,255.53036280793876,126.49336466300463,278.8809845166597,244.89365361125073,128.47104345958311,-3.4752329402623587,163.27729768373263,150.85406630275432,149.04284313005437,232.683470907247,256.74974572954613,171.34111331421315,15.651176735737579,235.04172481036326,296.5906963694035,132.69762486455596,247.96503765092575,130.84909904099638,221.8669767279024,270.75209558962104,265.68253309688487,274.7382252186218,167.93116696555433,255.41433796543387,255.15581547746845,289.4499020077071,277.1902594177982,276.4623739409745,215.7132346132932,5.755375145015648],\"yaxis\":\"y2\",\"type\":\"scatter\",\"uid\":\"61d5fcab-3641-4af9-94b6-304a2390a7c3\"},{\"mode\":\"lines\",\"name\":\"Duration (100 episode average)\",\"x\":[],\"xaxis\":\"x\",\"y\":[],\"yaxis\":\"y\",\"type\":\"scatter\",\"uid\":\"d18513f6-24c3-4b2e-8cb0-e91f79800c4e\"},{\"mode\":\"lines\",\"name\":\"Reward (100 episode average)\",\"x\":[],\"xaxis\":\"x2\",\"y\":[],\"yaxis\":\"y2\",\"type\":\"scatter\",\"uid\":\"90f05d38-1b03-46ce-b382-7dc5c124ab75\"}],                        {\"annotations\":[{\"font\":{\"size\":16},\"showarrow\":false,\"text\":\"Episode Duration\",\"x\":0.5,\"xanchor\":\"center\",\"xref\":\"paper\",\"y\":1.0,\"yanchor\":\"bottom\",\"yref\":\"paper\"},{\"font\":{\"size\":16},\"showarrow\":false,\"text\":\"Episode Reward\",\"x\":0.5,\"xanchor\":\"center\",\"xref\":\"paper\",\"y\":0.49,\"yanchor\":\"bottom\",\"yref\":\"paper\"}],\"margin\":{\"b\":0,\"l\":0,\"r\":0,\"t\":30},\"showlegend\":false,\"template\":{\"data\":{\"barpolar\":[{\"marker\":{\"line\":{\"color\":\"#E5ECF6\",\"width\":0.5},\"pattern\":{\"fillmode\":\"overlay\",\"size\":10,\"solidity\":0.2}},\"type\":\"barpolar\"}],\"bar\":[{\"error_x\":{\"color\":\"#2a3f5f\"},\"error_y\":{\"color\":\"#2a3f5f\"},\"marker\":{\"line\":{\"color\":\"#E5ECF6\",\"width\":0.5},\"pattern\":{\"fillmode\":\"overlay\",\"size\":10,\"solidity\":0.2}},\"type\":\"bar\"}],\"carpet\":[{\"aaxis\":{\"endlinecolor\":\"#2a3f5f\",\"gridcolor\":\"white\",\"linecolor\":\"white\",\"minorgridcolor\":\"white\",\"startlinecolor\":\"#2a3f5f\"},\"baxis\":{\"endlinecolor\":\"#2a3f5f\",\"gridcolor\":\"white\",\"linecolor\":\"white\",\"minorgridcolor\":\"white\",\"startlinecolor\":\"#2a3f5f\"},\"type\":\"carpet\"}],\"choropleth\":[{\"colorbar\":{\"outlinewidth\":0,\"ticks\":\"\"},\"type\":\"choropleth\"}],\"contourcarpet\":[{\"colorbar\":{\"outlinewidth\":0,\"ticks\":\"\"},\"type\":\"contourcarpet\"}],\"contour\":[{\"colorbar\":{\"outlinewidth\":0,\"ticks\":\"\"},\"colorscale\":[[0.0,\"#0d0887\"],[0.1111111111111111,\"#46039f\"],[0.2222222222222222,\"#7201a8\"],[0.3333333333333333,\"#9c179e\"],[0.4444444444444444,\"#bd3786\"],[0.5555555555555556,\"#d8576b\"],[0.6666666666666666,\"#ed7953\"],[0.7777777777777778,\"#fb9f3a\"],[0.8888888888888888,\"#fdca26\"],[1.0,\"#f0f921\"]],\"type\":\"contour\"}],\"heatmapgl\":[{\"colorbar\":{\"outlinewidth\":0,\"ticks\":\"\"},\"colorscale\":[[0.0,\"#0d0887\"],[0.1111111111111111,\"#46039f\"],[0.2222222222222222,\"#7201a8\"],[0.3333333333333333,\"#9c179e\"],[0.4444444444444444,\"#bd3786\"],[0.5555555555555556,\"#d8576b\"],[0.6666666666666666,\"#ed7953\"],[0.7777777777777778,\"#fb9f3a\"],[0.8888888888888888,\"#fdca26\"],[1.0,\"#f0f921\"]],\"type\":\"heatmapgl\"}],\"heatmap\":[{\"colorbar\":{\"outlinewidth\":0,\"ticks\":\"\"},\"colorscale\":[[0.0,\"#0d0887\"],[0.1111111111111111,\"#46039f\"],[0.2222222222222222,\"#7201a8\"],[0.3333333333333333,\"#9c179e\"],[0.4444444444444444,\"#bd3786\"],[0.5555555555555556,\"#d8576b\"],[0.6666666666666666,\"#ed7953\"],[0.7777777777777778,\"#fb9f3a\"],[0.8888888888888888,\"#fdca26\"],[1.0,\"#f0f921\"]],\"type\":\"heatmap\"}],\"histogram2dcontour\":[{\"colorbar\":{\"outlinewidth\":0,\"ticks\":\"\"},\"colorscale\":[[0.0,\"#0d0887\"],[0.1111111111111111,\"#46039f\"],[0.2222222222222222,\"#7201a8\"],[0.3333333333333333,\"#9c179e\"],[0.4444444444444444,\"#bd3786\"],[0.5555555555555556,\"#d8576b\"],[0.6666666666666666,\"#ed7953\"],[0.7777777777777778,\"#fb9f3a\"],[0.8888888888888888,\"#fdca26\"],[1.0,\"#f0f921\"]],\"type\":\"histogram2dcontour\"}],\"histogram2d\":[{\"colorbar\":{\"outlinewidth\":0,\"ticks\":\"\"},\"colorscale\":[[0.0,\"#0d0887\"],[0.1111111111111111,\"#46039f\"],[0.2222222222222222,\"#7201a8\"],[0.3333333333333333,\"#9c179e\"],[0.4444444444444444,\"#bd3786\"],[0.5555555555555556,\"#d8576b\"],[0.6666666666666666,\"#ed7953\"],[0.7777777777777778,\"#fb9f3a\"],[0.8888888888888888,\"#fdca26\"],[1.0,\"#f0f921\"]],\"type\":\"histogram2d\"}],\"histogram\":[{\"marker\":{\"pattern\":{\"fillmode\":\"overlay\",\"size\":10,\"solidity\":0.2}},\"type\":\"histogram\"}],\"mesh3d\":[{\"colorbar\":{\"outlinewidth\":0,\"ticks\":\"\"},\"type\":\"mesh3d\"}],\"parcoords\":[{\"line\":{\"colorbar\":{\"outlinewidth\":0,\"ticks\":\"\"}},\"type\":\"parcoords\"}],\"pie\":[{\"automargin\":true,\"type\":\"pie\"}],\"scatter3d\":[{\"line\":{\"colorbar\":{\"outlinewidth\":0,\"ticks\":\"\"}},\"marker\":{\"colorbar\":{\"outlinewidth\":0,\"ticks\":\"\"}},\"type\":\"scatter3d\"}],\"scattercarpet\":[{\"marker\":{\"colorbar\":{\"outlinewidth\":0,\"ticks\":\"\"}},\"type\":\"scattercarpet\"}],\"scattergeo\":[{\"marker\":{\"colorbar\":{\"outlinewidth\":0,\"ticks\":\"\"}},\"type\":\"scattergeo\"}],\"scattergl\":[{\"marker\":{\"colorbar\":{\"outlinewidth\":0,\"ticks\":\"\"}},\"type\":\"scattergl\"}],\"scattermapbox\":[{\"marker\":{\"colorbar\":{\"outlinewidth\":0,\"ticks\":\"\"}},\"type\":\"scattermapbox\"}],\"scatterpolargl\":[{\"marker\":{\"colorbar\":{\"outlinewidth\":0,\"ticks\":\"\"}},\"type\":\"scatterpolargl\"}],\"scatterpolar\":[{\"marker\":{\"colorbar\":{\"outlinewidth\":0,\"ticks\":\"\"}},\"type\":\"scatterpolar\"}],\"scatter\":[{\"fillpattern\":{\"fillmode\":\"overlay\",\"size\":10,\"solidity\":0.2},\"type\":\"scatter\"}],\"scatterternary\":[{\"marker\":{\"colorbar\":{\"outlinewidth\":0,\"ticks\":\"\"}},\"type\":\"scatterternary\"}],\"surface\":[{\"colorbar\":{\"outlinewidth\":0,\"ticks\":\"\"},\"colorscale\":[[0.0,\"#0d0887\"],[0.1111111111111111,\"#46039f\"],[0.2222222222222222,\"#7201a8\"],[0.3333333333333333,\"#9c179e\"],[0.4444444444444444,\"#bd3786\"],[0.5555555555555556,\"#d8576b\"],[0.6666666666666666,\"#ed7953\"],[0.7777777777777778,\"#fb9f3a\"],[0.8888888888888888,\"#fdca26\"],[1.0,\"#f0f921\"]],\"type\":\"surface\"}],\"table\":[{\"cells\":{\"fill\":{\"color\":\"#EBF0F8\"},\"line\":{\"color\":\"white\"}},\"header\":{\"fill\":{\"color\":\"#C8D4E3\"},\"line\":{\"color\":\"white\"}},\"type\":\"table\"}]},\"layout\":{\"annotationdefaults\":{\"arrowcolor\":\"#2a3f5f\",\"arrowhead\":0,\"arrowwidth\":1},\"autotypenumbers\":\"strict\",\"coloraxis\":{\"colorbar\":{\"outlinewidth\":0,\"ticks\":\"\"}},\"colorscale\":{\"diverging\":[[0,\"#8e0152\"],[0.1,\"#c51b7d\"],[0.2,\"#de77ae\"],[0.3,\"#f1b6da\"],[0.4,\"#fde0ef\"],[0.5,\"#f7f7f7\"],[0.6,\"#e6f5d0\"],[0.7,\"#b8e186\"],[0.8,\"#7fbc41\"],[0.9,\"#4d9221\"],[1,\"#276419\"]],\"sequential\":[[0.0,\"#0d0887\"],[0.1111111111111111,\"#46039f\"],[0.2222222222222222,\"#7201a8\"],[0.3333333333333333,\"#9c179e\"],[0.4444444444444444,\"#bd3786\"],[0.5555555555555556,\"#d8576b\"],[0.6666666666666666,\"#ed7953\"],[0.7777777777777778,\"#fb9f3a\"],[0.8888888888888888,\"#fdca26\"],[1.0,\"#f0f921\"]],\"sequentialminus\":[[0.0,\"#0d0887\"],[0.1111111111111111,\"#46039f\"],[0.2222222222222222,\"#7201a8\"],[0.3333333333333333,\"#9c179e\"],[0.4444444444444444,\"#bd3786\"],[0.5555555555555556,\"#d8576b\"],[0.6666666666666666,\"#ed7953\"],[0.7777777777777778,\"#fb9f3a\"],[0.8888888888888888,\"#fdca26\"],[1.0,\"#f0f921\"]]},\"colorway\":[\"#636efa\",\"#EF553B\",\"#00cc96\",\"#ab63fa\",\"#FFA15A\",\"#19d3f3\",\"#FF6692\",\"#B6E880\",\"#FF97FF\",\"#FECB52\"],\"font\":{\"color\":\"#2a3f5f\"},\"geo\":{\"bgcolor\":\"white\",\"lakecolor\":\"white\",\"landcolor\":\"#E5ECF6\",\"showlakes\":true,\"showland\":true,\"subunitcolor\":\"white\"},\"hoverlabel\":{\"align\":\"left\"},\"hovermode\":\"closest\",\"mapbox\":{\"style\":\"light\"},\"paper_bgcolor\":\"white\",\"plot_bgcolor\":\"#E5ECF6\",\"polar\":{\"angularaxis\":{\"gridcolor\":\"white\",\"linecolor\":\"white\",\"ticks\":\"\"},\"bgcolor\":\"#E5ECF6\",\"radialaxis\":{\"gridcolor\":\"white\",\"linecolor\":\"white\",\"ticks\":\"\"}},\"scene\":{\"xaxis\":{\"backgroundcolor\":\"#E5ECF6\",\"gridcolor\":\"white\",\"gridwidth\":2,\"linecolor\":\"white\",\"showbackground\":true,\"ticks\":\"\",\"zerolinecolor\":\"white\"},\"yaxis\":{\"backgroundcolor\":\"#E5ECF6\",\"gridcolor\":\"white\",\"gridwidth\":2,\"linecolor\":\"white\",\"showbackground\":true,\"ticks\":\"\",\"zerolinecolor\":\"white\"},\"zaxis\":{\"backgroundcolor\":\"#E5ECF6\",\"gridcolor\":\"white\",\"gridwidth\":2,\"linecolor\":\"white\",\"showbackground\":true,\"ticks\":\"\",\"zerolinecolor\":\"white\"}},\"shapedefaults\":{\"line\":{\"color\":\"#2a3f5f\"}},\"ternary\":{\"aaxis\":{\"gridcolor\":\"white\",\"linecolor\":\"white\",\"ticks\":\"\"},\"baxis\":{\"gridcolor\":\"white\",\"linecolor\":\"white\",\"ticks\":\"\"},\"bgcolor\":\"#E5ECF6\",\"caxis\":{\"gridcolor\":\"white\",\"linecolor\":\"white\",\"ticks\":\"\"}},\"title\":{\"x\":0.05},\"xaxis\":{\"automargin\":true,\"gridcolor\":\"white\",\"linecolor\":\"white\",\"ticks\":\"\",\"title\":{\"standoff\":15},\"zerolinecolor\":\"white\",\"zerolinewidth\":2},\"yaxis\":{\"automargin\":true,\"gridcolor\":\"white\",\"linecolor\":\"white\",\"ticks\":\"\",\"title\":{\"standoff\":15},\"zerolinecolor\":\"white\",\"zerolinewidth\":2}}},\"title\":{\"text\":\"Training...\"},\"xaxis\":{\"anchor\":\"y\",\"domain\":[0.0,1.0],\"matches\":\"x2\",\"showticklabels\":false},\"yaxis\":{\"anchor\":\"x\",\"domain\":[0.51,1.0],\"title\":{\"text\":\"Duration\"}},\"xaxis2\":{\"anchor\":\"y2\",\"domain\":[0.0,1.0],\"title\":{\"text\":\"Episode\"}},\"yaxis2\":{\"anchor\":\"x2\",\"domain\":[0.0,0.49],\"title\":{\"text\":\"Reward\"}}},                        {\"responsive\": true}                    ).then(function(){\n",
              "                            \n",
              "var gd = document.getElementById('a2c23ed0-9973-4f0d-990e-4e51a729eb32');\n",
              "var x = new MutationObserver(function (mutations, observer) {{\n",
              "        var display = window.getComputedStyle(gd).display;\n",
              "        if (!display || display === 'none') {{\n",
              "            console.log([gd, 'removed!']);\n",
              "            Plotly.purge(gd);\n",
              "            observer.disconnect();\n",
              "        }}\n",
              "}});\n",
              "\n",
              "// Listen for the removal of the full notebook cells\n",
              "var notebookContainer = gd.closest('#notebook-container');\n",
              "if (notebookContainer) {{\n",
              "    x.observe(notebookContainer, {childList: true});\n",
              "}}\n",
              "\n",
              "// Listen for the clearing of the current output cell\n",
              "var outputEl = gd.closest('.output');\n",
              "if (outputEl) {{\n",
              "    x.observe(outputEl, {childList: true});\n",
              "}}\n",
              "\n",
              "                        })                };                            </script>        </div>\n",
              "</body>\n",
              "</html>"
            ]
          },
          "metadata": {}
        },
        {
          "output_type": "stream",
          "name": "stderr",
          "text": [
            "100%|██████████| 600/600 [28:47<00:00,  2.88s/it]"
          ]
        },
        {
          "output_type": "stream",
          "name": "stdout",
          "text": [
            "Complete\n"
          ]
        },
        {
          "output_type": "stream",
          "name": "stderr",
          "text": [
            "\n"
          ]
        },
        {
          "output_type": "display_data",
          "data": {
            "text/html": [
              "<html>\n",
              "<head><meta charset=\"utf-8\" /></head>\n",
              "<body>\n",
              "    <div>            <script src=\"https://cdnjs.cloudflare.com/ajax/libs/mathjax/2.7.5/MathJax.js?config=TeX-AMS-MML_SVG\"></script><script type=\"text/javascript\">if (window.MathJax && window.MathJax.Hub && window.MathJax.Hub.Config) {window.MathJax.Hub.Config({SVG: {font: \"STIX-Web\"}});}</script>                <script type=\"text/javascript\">window.PlotlyConfig = {MathJaxConfig: 'local'};</script>\n",
              "        <script charset=\"utf-8\" src=\"https://cdn.plot.ly/plotly-2.24.1.min.js\"></script>                <div id=\"06ace33a-640c-4c97-83b6-77e559bbfadd\" class=\"plotly-graph-div\" style=\"height:525px; width:100%;\"></div>            <script type=\"text/javascript\">                                    window.PLOTLYENV=window.PLOTLYENV || {};                                    if (document.getElementById(\"06ace33a-640c-4c97-83b6-77e559bbfadd\")) {                    Plotly.newPlot(                        \"06ace33a-640c-4c97-83b6-77e559bbfadd\",                        [{\"mode\":\"lines\",\"name\":\"Duration\",\"x\":[1,2,3,4,5,6,7,8,9,10,11,12,13,14,15,16,17,18,19,20,21,22,23,24,25,26,27,28,29,30,31,32,33,34,35,36,37,38,39,40,41,42,43,44,45,46,47,48,49,50,51,52,53,54,55,56,57,58,59,60,61,62,63,64,65,66,67,68,69,70,71,72,73,74,75,76,77,78,79,80,81,82,83,84,85,86,87,88,89,90,91,92,93,94,95,96,97,98,99,100,101,102,103,104,105,106,107,108,109,110,111,112,113,114,115,116,117,118,119,120,121,122,123,124,125,126,127,128,129,130,131,132,133,134,135,136,137,138,139,140,141,142,143,144,145,146,147,148,149,150,151,152,153,154,155,156,157,158,159,160,161,162,163,164,165,166,167,168,169,170,171,172,173,174,175,176,177,178,179,180,181,182,183,184,185,186,187,188,189,190,191,192,193,194,195,196,197,198,199,200,201,202,203,204,205,206,207,208,209,210,211,212,213,214,215,216,217,218,219,220,221,222,223,224,225,226,227,228,229,230,231,232,233,234,235,236,237,238,239,240,241,242,243,244,245,246,247,248,249,250,251,252,253,254,255,256,257,258,259,260,261,262,263,264,265,266,267,268,269,270,271,272,273,274,275,276,277,278,279,280,281,282,283,284,285,286,287,288,289,290,291,292,293,294,295,296,297,298,299,300,301,302,303,304,305,306,307,308,309,310,311,312,313,314,315,316,317,318,319,320,321,322,323,324,325,326,327,328,329,330,331,332,333,334,335,336,337,338,339,340,341,342,343,344,345,346,347,348,349,350,351,352,353,354,355,356,357,358,359,360,361,362,363,364,365,366,367,368,369,370,371,372,373,374,375,376,377,378,379,380,381,382,383,384,385,386,387,388,389,390,391,392,393,394,395,396,397,398,399,400,401,402,403,404,405,406,407,408,409,410,411,412,413,414,415,416,417,418,419,420,421,422,423,424,425,426,427,428,429,430,431,432,433,434,435,436,437,438,439,440,441,442,443,444,445,446,447,448,449,450,451,452,453,454,455,456,457,458,459,460,461,462,463,464,465,466,467,468,469,470,471,472,473,474,475,476,477,478,479,480,481,482,483,484,485,486,487,488,489,490,491,492,493,494,495,496,497,498,499,500,501,502,503,504,505,506,507,508,509,510,511,512,513,514,515,516,517,518,519,520,521,522,523,524,525,526,527,528,529,530,531,532,533,534,535,536,537,538,539,540,541,542,543,544,545,546,547,548,549,550,551,552,553,554,555,556,557,558,559,560,561,562,563,564,565,566,567,568,569,570,571,572,573,574,575,576,577,578,579,580,581,582,583,584,585,586,587,588,589,590,591,592,593,594,595,596,597,598,599,600],\"xaxis\":\"x\",\"y\":[232,70,79,113,80,74,354,219,171,146,106,139,175,138,630,153,749,331,253,297,220,110,207,279,113,461,122,105,304,304,372,168,451,596,749,377,427,505,521,548,346,212,533,209,321,288,430,749,749,749,749,749,749,749,658,749,749,749,749,749,197,749,749,749,669,373,749,228,356,518,391,272,109,389,499,390,403,302,351,224,180,136,182,361,325,251,262,354,131,188,357,258,405,278,395,624,338,234,344,553,410,223,666,200,341,232,222,386,276,199,472,698,251,266,496,486,238,496,573,479,394,553,408,284,361,582,408,226,742,501,309,524,313,311,353,273,408,467,280,594,363,270,221,369,450,209,398,272,391,245,370,247,252,474,357,362,591,458,413,437,374,540,345,321,333,310,361,490,414,724,353,429,637,492,749,241,560,472,715,698,556,749,316,378,418,225,284,429,531,749,461,648,394,336,498,299,520,376,304,749,749,289,358,395,377,295,363,636,402,704,638,749,422,383,289,649,276,529,309,334,743,176,393,427,317,461,183,728,640,391,272,283,314,382,252,174,357,163,350,360,491,167,749,477,316,145,255,160,171,213,256,749,387,151,749,274,298,136,145,593,533,130,141,695,304,332,749,268,392,608,692,553,628,699,146,446,257,141,228,567,520,340,749,186,749,452,706,477,414,261,374,540,468,749,496,549,556,330,350,749,749,475,345,313,706,550,520,430,523,656,386,648,749,522,396,749,528,749,749,711,545,749,749,749,522,564,749,634,749,749,749,705,485,726,736,646,749,179,565,260,749,475,749,669,462,608,278,554,501,436,337,489,685,292,699,357,270,530,386,457,435,718,335,689,581,749,749,342,303,530,508,650,290,427,749,504,236,270,749,239,424,491,322,749,749,437,686,749,444,692,749,163,749,157,749,749,585,749,749,655,476,749,275,749,387,749,749,749,668,749,749,356,749,667,289,387,749,749,749,749,749,279,749,749,625,749,309,349,749,279,559,749,402,545,749,547,749,498,749,749,749,461,640,749,332,555,749,749,655,749,609,749,749,749,694,749,749,749,749,749,749,749,749,749,749,749,749,749,749,749,749,685,485,749,749,629,749,590,585,451,384,338,335,317,327,749,542,749,749,749,749,749,352,749,420,749,749,749,461,749,749,749,749,706,749,749,749,749,363,196,294,283,749,749,248,749,749,312,749,749,749,749,425,749,443,749,749,361,749,264,749,749,292,337,390,300,749,314,395,359,334,278,271,689,418,283,427,318,190,392,749,749,749,749,413,251,749,749,749,222,268,287,248,296,290,749,749,749,749,749,294,749,275,548,749,170,749,749,749,614,325,749,213,319,264,749,298,749,270,307,633,508,749,245,279,284,274,292,639,189],\"yaxis\":\"y\",\"type\":\"scatter\",\"uid\":\"ba489732-ef50-43c6-a0d0-53be955c5017\"},{\"mode\":\"lines\",\"name\":\"Reward\",\"x\":[1,2,3,4,5,6,7,8,9,10,11,12,13,14,15,16,17,18,19,20,21,22,23,24,25,26,27,28,29,30,31,32,33,34,35,36,37,38,39,40,41,42,43,44,45,46,47,48,49,50,51,52,53,54,55,56,57,58,59,60,61,62,63,64,65,66,67,68,69,70,71,72,73,74,75,76,77,78,79,80,81,82,83,84,85,86,87,88,89,90,91,92,93,94,95,96,97,98,99,100,101,102,103,104,105,106,107,108,109,110,111,112,113,114,115,116,117,118,119,120,121,122,123,124,125,126,127,128,129,130,131,132,133,134,135,136,137,138,139,140,141,142,143,144,145,146,147,148,149,150,151,152,153,154,155,156,157,158,159,160,161,162,163,164,165,166,167,168,169,170,171,172,173,174,175,176,177,178,179,180,181,182,183,184,185,186,187,188,189,190,191,192,193,194,195,196,197,198,199,200,201,202,203,204,205,206,207,208,209,210,211,212,213,214,215,216,217,218,219,220,221,222,223,224,225,226,227,228,229,230,231,232,233,234,235,236,237,238,239,240,241,242,243,244,245,246,247,248,249,250,251,252,253,254,255,256,257,258,259,260,261,262,263,264,265,266,267,268,269,270,271,272,273,274,275,276,277,278,279,280,281,282,283,284,285,286,287,288,289,290,291,292,293,294,295,296,297,298,299,300,301,302,303,304,305,306,307,308,309,310,311,312,313,314,315,316,317,318,319,320,321,322,323,324,325,326,327,328,329,330,331,332,333,334,335,336,337,338,339,340,341,342,343,344,345,346,347,348,349,350,351,352,353,354,355,356,357,358,359,360,361,362,363,364,365,366,367,368,369,370,371,372,373,374,375,376,377,378,379,380,381,382,383,384,385,386,387,388,389,390,391,392,393,394,395,396,397,398,399,400,401,402,403,404,405,406,407,408,409,410,411,412,413,414,415,416,417,418,419,420,421,422,423,424,425,426,427,428,429,430,431,432,433,434,435,436,437,438,439,440,441,442,443,444,445,446,447,448,449,450,451,452,453,454,455,456,457,458,459,460,461,462,463,464,465,466,467,468,469,470,471,472,473,474,475,476,477,478,479,480,481,482,483,484,485,486,487,488,489,490,491,492,493,494,495,496,497,498,499,500,501,502,503,504,505,506,507,508,509,510,511,512,513,514,515,516,517,518,519,520,521,522,523,524,525,526,527,528,529,530,531,532,533,534,535,536,537,538,539,540,541,542,543,544,545,546,547,548,549,550,551,552,553,554,555,556,557,558,559,560,561,562,563,564,565,566,567,568,569,570,571,572,573,574,575,576,577,578,579,580,581,582,583,584,585,586,587,588,589,590,591,592,593,594,595,596,597,598,599,600],\"xaxis\":\"x2\",\"y\":[-504.2683569605267,-542.1463655205548,-656.7014254627629,-400.6764380174127,-137.8583953385005,-176.34890372335485,200.53892487282167,-261.3687321030412,-298.7850059869421,-222.52988595930398,-132.6497229283438,-253.00214884790077,-109.91609875734846,-194.75641176002557,166.6651565060547,-239.10522707625077,-24.626078120554165,-152.06937316671676,-71.95758161342745,-145.25611654804808,-86.776842344028,-82.76668895876884,-89.47503912631774,-113.18753156408549,-76.05261712691464,-138.08232392608363,18.298617349144607,-81.53393566004348,-97.3519119145255,-104.15370556776355,-129.25890557097648,-69.08089408070965,-119.95354608892927,-138.6322020359362,11.120871896478663,-90.45051910542978,-107.42920470550297,-190.96432012283492,-171.4944380111407,-119.13291438052973,-128.7150871096154,-74.3460122808976,129.7794890144824,-106.0247230416319,-102.01709441296671,-112.92198266436435,-106.27095169782217,-93.01229163927273,-80.06360477151294,-53.922688497487194,-27.230599307239203,-48.06987236218484,-95.53121216058392,-73.52349563123359,-106.02656124875992,28.259865827159743,21.816270914090506,-23.507535671402238,26.629659512843592,-29.299115807830017,-26.399673459440834,-16.636278620016814,-8.051446091098759,20.19499674264036,170.00570576493277,3.8213123067326364,101.90000212853008,-71.06614238335322,37.26230352015034,254.61453311765885,193.20115142468154,6.892581899464091,-79.41497373920147,232.72423617364433,217.3972833803649,228.43716595242535,226.7498721232445,22.30010601691778,-26.083979814257518,-37.452929325296964,-12.338690956443145,-23.246627148241373,-32.55687190925495,-9.143656594343582,235.24789506257127,226.60773413617383,12.317461074495867,256.1076902180897,-44.29013335677446,-18.058897321684256,16.707027569732674,4.701941862718698,-15.692593125816572,8.549066207347806,234.1761672994394,170.13994786575466,253.4088773357799,8.372461128103808,239.84506941777826,184.99984906548013,232.2619576349605,23.278655602757055,207.89795277016532,-8.30602188122306,261.11575541212164,36.50488895017173,24.33459192514232,181.57865807225903,32.83393991077284,-10.453434416255988,186.6146692650381,127.86309252506537,-15.525524924547966,-27.97670450296451,218.02232913349656,219.17827646843966,-1.5348823468481783,233.14669264756384,223.03673888018466,219.87152808954244,250.56027262899568,200.80239883035634,255.78123038290818,261.9364891462333,268.04165997541037,192.37733593155818,210.90822028663723,-2.5561004593373866,154.4320763582238,162.19447700620424,245.31883627469915,190.0145754749949,-27.971619822055615,240.32261479975608,240.8035598414608,-28.997555474278755,208.39666614555696,232.84925937868337,-12.768238249552823,-62.84247230104671,245.7815511894746,-23.03293493017638,-22.97986074985036,-52.939608831531146,-27.234019214745814,-46.1786755111811,225.2642975597626,8.975762432320536,-41.70053725414492,-36.20642971756142,227.624470198326,256.38267019739305,0.5939207357820067,215.3849960998561,226.63588308821244,222.33165708620737,240.51690592081584,184.28001362170676,240.6571790203679,225.44080582819765,245.33620001309308,243.49189989145907,259.7836902463886,4.042212535755979,250.0397099392368,242.90986461890503,260.544452207708,242.1771246581248,221.74534887885306,216.34782730438872,262.5227831448893,246.41077540620262,176.39726991294899,216.77174184260215,78.16520628348682,-16.302877748566075,188.15621036091926,204.52173462714694,189.40421359969554,168.00025175168307,221.39285906319748,1.7251310580196728,-37.88377377003326,220.7550415215327,-36.36409279314857,-19.514041049817806,-1.2639568577512819,199.95976941715392,198.95554041715567,35.9604667799661,206.726838365071,204.64635641844143,247.64617152759376,267.1723770899716,202.67314206540337,-12.84893667442411,217.23905259312983,-42.49370469665165,-5.206799602480643,31.61856221258109,131.68130630628033,259.33377780533624,224.16598916720415,243.60628345867136,229.27700937783885,250.2972973969711,269.68575987839773,-93.28232133752036,235.941627850394,204.85281958663612,178.13793690292158,110.70342231064016,225.66252501368268,-15.721752183679442,237.59641891706028,201.07360740721347,255.48041597923466,-48.020794032949325,253.44296971600366,205.41644795133658,232.9944309070625,-4.501382863069125,218.12088403384067,228.63279390950683,212.01390823430611,189.2371544562189,6.813732818829763,185.96867457236954,233.23750086975093,208.8824675405296,-8.882234526868217,-45.04749287633335,-62.875312625549086,218.08736011909937,1.9747910776849267,-12.445513836658122,194.64526321280061,1.4736314727148851,197.66044977593924,226.66812232252516,223.28656105842106,8.210189587614337,129.12417914834018,172.3543409346853,-31.78257731782601,-23.178858594795855,10.635886451605373,211.61723443494463,31.774320029870637,-23.94268755736124,215.15286990869362,76.38025616448934,215.68312782441132,-9.72307380343311,100.5477195401476,250.11795707621184,-9.974985039463121,-37.775754084810174,14.479402972652693,244.76955771574438,247.13170683837322,-54.43313251846061,-12.205506141475567,234.92283237861227,265.6230784722841,261.64198336824995,84.82780947405904,-26.69455727324967,257.6245077724277,212.5811886973179,209.10324583415394,193.58194688696213,163.70659955010973,210.78051557319236,-68.8066643114013,263.44033855311153,-48.851009584231264,-39.46601260350003,-39.06431286711506,198.12112554020916,222.1804179054434,200.9997520235038,13.532561921590773,21.51517268263008,68.61171589952974,235.88305862008616,160.43860720347962,218.78770529246987,205.40933238849016,14.510171197682638,246.90490330018784,227.21543149421024,251.3154214887524,147.33158620164386,215.5571506990146,220.83343986173207,236.35372965252242,212.93116217574544,228.57195557767838,88.53497967766931,95.45001286755465,228.61904743487597,239.12632399871296,208.95827312532833,174.46199557501575,214.38002606240389,223.75787205751448,213.1535442645888,208.09535855061878,184.02783604816887,242.84864631051417,187.90293373860084,65.89208111047994,-37.37919217072809,193.63730938974265,36.93559641110878,164.00771479677826,64.65709554050045,69.94834753996187,-84.75658727094815,-29.39796833081428,67.6315745567248,21.107673709145423,91.64204315622963,182.1500015047967,-71.07265562528258,122.90461511752844,199.09053433839583,54.240719886135146,67.5349826084646,75.40296645469805,260.467337449026,185.24651775476286,156.29468932991088,149.41251446339587,195.47967934105574,22.759782017853407,-22.346468298370084,167.87354242154083,314.4291010142717,1.2011591953628922,209.08586366445655,60.81960208501832,152.59969143254852,204.00139674724267,164.07889838485738,283.5618940445038,181.62934304137724,191.0441346949592,229.1991872511942,-14.805225651423555,244.54296469670243,191.3276370387639,277.8709672646915,199.61641876752645,227.157125667255,292.5378896349549,198.65168942029496,227.11910480070992,205.53416692994062,207.6270936236948,165.21653109228265,262.687923763654,-149.70129876972769,-74.09874530880656,6.480129250796097,69.60268860272824,207.24560943490485,272.0710619127375,204.2830670556026,-59.089676944997194,159.30713725003517,273.9373584640166,203.00859855038283,45.46477078673508,162.494680788011,28.796165039220483,187.4747053088492,130.024646535107,7.46790391588145,188.6040988331011,210.92156673334836,162.9453420953976,-26.68223880323575,-3.352474412995325,196.46770497017533,209.87194914999435,-14.931140067072867,170.57628620267462,214.72023729329413,-42.42324008637636,-3.8287319990945434,85.75350082877368,-12.31779037459306,39.49855496170592,75.59294773610253,183.4448180056541,46.854748016230495,178.29792467803347,253.07565528734997,223.13604312519197,107.83562892787104,63.22751582221747,-42.404828967146805,-78.94860483662839,13.487064126440261,162.69810611641225,152.57451562478275,151.35237899856332,76.53159650846422,75.8260377290224,234.21226629179796,110.60762109737375,139.77811786299122,160.8319959543768,-15.296306831341681,6.726161482232866,46.64487925130261,111.76111383148424,18.71588111436426,45.996553442862094,281.5407623297977,124.36762563268928,149.77986234347125,149.1564957151263,72.33895733311006,237.99050243116722,-15.769192629894263,146.02565597463192,238.59106605399114,239.45518227824476,181.10081173753431,239.9168703842831,169.38687559199028,87.11617382470695,131.72481043669438,150.86523296366053,188.90693911831136,71.6357318826796,124.10277864203977,94.06273503048097,177.86126453273056,257.43496052958716,100.64145619162962,302.2000568703516,158.562160759218,-1.3618470380025676,31.732617035120825,181.92882300908857,40.54477385139003,244.04693308173051,124.35108932714611,116.48254898780579,64.60932523191511,161.97109536764287,115.08120963479014,51.06817312776296,77.9769429883594,44.40649026479215,84.98893741174062,69.04421136348498,18.19846022826479,63.88110864268868,51.77503152781766,48.639612636343,37.916663311817146,109.50718740546539,33.36269285741147,67.28251849688158,57.23185689215873,70.88174207370527,199.21194891406503,196.0335488061282,90.57019309075366,50.163710710980524,187.81788581116427,68.94956331890334,192.64677059890266,225.96998517979705,261.0865227840203,271.1990867932054,217.42635286781805,238.71448453076744,277.63949688867336,210.95748724152202,123.62393658398638,216.77314426846772,180.92079346691065,131.49545401311352,161.15161418737767,143.0299605898739,146.02444749784124,242.32050739239418,140.9272346268386,247.30891054174216,127.5555901411434,125.67996852984446,175.68762366539133,265.9133742081259,98.60182818023436,159.1604480121765,115.39630575583233,125.67383715015129,240.50488038330977,137.4740777179095,154.87355384637019,169.20975254304446,152.87570727563013,238.6996303492731,6.07891566408324,273.31690219026046,-7.030483696320317,181.4644394586273,184.9884361393939,288.7132766351546,136.4901114193715,138.1342561939038,264.2786544042947,134.22495587616996,150.33562599494894,175.73536271733317,122.81829430551001,220.33181066501606,182.6636981062323,224.2001854305599,159.62564041652104,126.7895581866053,244.75487700954258,105.73217447351949,41.368548908199756,108.79663116456041,146.51260353581466,239.00274207786845,273.5677537014391,254.25198565581428,275.5529132222013,110.49587522889941,263.76665442606884,209.187199844484,221.10861003199904,266.84572921616973,274.5163441348474,256.92442322117984,246.06287329934042,224.61360898444627,224.16995058919798,251.56855684402373,242.74229062583976,46.55748553975397,229.5488952302266,168.0431104983025,136.66461055868038,135.5803058465956,166.59766885866088,253.8451869851671,305.34178425375023,195.83356467986602,133.57887803682678,150.611258498522,284.28977631674513,267.86815917934507,278.25026807457584,249.39453467608217,264.46366144585875,243.88100864529386,156.94192568714863,143.10018904582768,180.86773481331758,179.404036791281,140.26469445097965,255.53036280793876,126.49336466300463,278.8809845166597,244.89365361125073,128.47104345958311,-3.4752329402623587,163.27729768373263,150.85406630275432,149.04284313005437,232.683470907247,256.74974572954613,171.34111331421315,15.651176735737579,235.04172481036326,296.5906963694035,132.69762486455596,247.96503765092575,130.84909904099638,221.8669767279024,270.75209558962104,265.68253309688487,274.7382252186218,167.93116696555433,255.41433796543387,255.15581547746845,289.4499020077071,277.1902594177982,276.4623739409745,215.7132346132932,5.755375145015648],\"yaxis\":\"y2\",\"type\":\"scatter\",\"uid\":\"61d5fcab-3641-4af9-94b6-304a2390a7c3\"},{\"mode\":\"lines\",\"name\":\"Duration (100 episode average)\",\"x\":[],\"xaxis\":\"x\",\"y\":[],\"yaxis\":\"y\",\"type\":\"scatter\",\"uid\":\"d18513f6-24c3-4b2e-8cb0-e91f79800c4e\"},{\"mode\":\"lines\",\"name\":\"Reward (100 episode average)\",\"x\":[],\"xaxis\":\"x2\",\"y\":[],\"yaxis\":\"y2\",\"type\":\"scatter\",\"uid\":\"90f05d38-1b03-46ce-b382-7dc5c124ab75\"}],                        {\"annotations\":[{\"font\":{\"size\":16},\"showarrow\":false,\"text\":\"Episode Duration\",\"x\":0.5,\"xanchor\":\"center\",\"xref\":\"paper\",\"y\":1.0,\"yanchor\":\"bottom\",\"yref\":\"paper\"},{\"font\":{\"size\":16},\"showarrow\":false,\"text\":\"Episode Reward\",\"x\":0.5,\"xanchor\":\"center\",\"xref\":\"paper\",\"y\":0.49,\"yanchor\":\"bottom\",\"yref\":\"paper\"}],\"margin\":{\"b\":0,\"l\":0,\"r\":0,\"t\":30},\"showlegend\":false,\"template\":{\"data\":{\"barpolar\":[{\"marker\":{\"line\":{\"color\":\"#E5ECF6\",\"width\":0.5},\"pattern\":{\"fillmode\":\"overlay\",\"size\":10,\"solidity\":0.2}},\"type\":\"barpolar\"}],\"bar\":[{\"error_x\":{\"color\":\"#2a3f5f\"},\"error_y\":{\"color\":\"#2a3f5f\"},\"marker\":{\"line\":{\"color\":\"#E5ECF6\",\"width\":0.5},\"pattern\":{\"fillmode\":\"overlay\",\"size\":10,\"solidity\":0.2}},\"type\":\"bar\"}],\"carpet\":[{\"aaxis\":{\"endlinecolor\":\"#2a3f5f\",\"gridcolor\":\"white\",\"linecolor\":\"white\",\"minorgridcolor\":\"white\",\"startlinecolor\":\"#2a3f5f\"},\"baxis\":{\"endlinecolor\":\"#2a3f5f\",\"gridcolor\":\"white\",\"linecolor\":\"white\",\"minorgridcolor\":\"white\",\"startlinecolor\":\"#2a3f5f\"},\"type\":\"carpet\"}],\"choropleth\":[{\"colorbar\":{\"outlinewidth\":0,\"ticks\":\"\"},\"type\":\"choropleth\"}],\"contourcarpet\":[{\"colorbar\":{\"outlinewidth\":0,\"ticks\":\"\"},\"type\":\"contourcarpet\"}],\"contour\":[{\"colorbar\":{\"outlinewidth\":0,\"ticks\":\"\"},\"colorscale\":[[0.0,\"#0d0887\"],[0.1111111111111111,\"#46039f\"],[0.2222222222222222,\"#7201a8\"],[0.3333333333333333,\"#9c179e\"],[0.4444444444444444,\"#bd3786\"],[0.5555555555555556,\"#d8576b\"],[0.6666666666666666,\"#ed7953\"],[0.7777777777777778,\"#fb9f3a\"],[0.8888888888888888,\"#fdca26\"],[1.0,\"#f0f921\"]],\"type\":\"contour\"}],\"heatmapgl\":[{\"colorbar\":{\"outlinewidth\":0,\"ticks\":\"\"},\"colorscale\":[[0.0,\"#0d0887\"],[0.1111111111111111,\"#46039f\"],[0.2222222222222222,\"#7201a8\"],[0.3333333333333333,\"#9c179e\"],[0.4444444444444444,\"#bd3786\"],[0.5555555555555556,\"#d8576b\"],[0.6666666666666666,\"#ed7953\"],[0.7777777777777778,\"#fb9f3a\"],[0.8888888888888888,\"#fdca26\"],[1.0,\"#f0f921\"]],\"type\":\"heatmapgl\"}],\"heatmap\":[{\"colorbar\":{\"outlinewidth\":0,\"ticks\":\"\"},\"colorscale\":[[0.0,\"#0d0887\"],[0.1111111111111111,\"#46039f\"],[0.2222222222222222,\"#7201a8\"],[0.3333333333333333,\"#9c179e\"],[0.4444444444444444,\"#bd3786\"],[0.5555555555555556,\"#d8576b\"],[0.6666666666666666,\"#ed7953\"],[0.7777777777777778,\"#fb9f3a\"],[0.8888888888888888,\"#fdca26\"],[1.0,\"#f0f921\"]],\"type\":\"heatmap\"}],\"histogram2dcontour\":[{\"colorbar\":{\"outlinewidth\":0,\"ticks\":\"\"},\"colorscale\":[[0.0,\"#0d0887\"],[0.1111111111111111,\"#46039f\"],[0.2222222222222222,\"#7201a8\"],[0.3333333333333333,\"#9c179e\"],[0.4444444444444444,\"#bd3786\"],[0.5555555555555556,\"#d8576b\"],[0.6666666666666666,\"#ed7953\"],[0.7777777777777778,\"#fb9f3a\"],[0.8888888888888888,\"#fdca26\"],[1.0,\"#f0f921\"]],\"type\":\"histogram2dcontour\"}],\"histogram2d\":[{\"colorbar\":{\"outlinewidth\":0,\"ticks\":\"\"},\"colorscale\":[[0.0,\"#0d0887\"],[0.1111111111111111,\"#46039f\"],[0.2222222222222222,\"#7201a8\"],[0.3333333333333333,\"#9c179e\"],[0.4444444444444444,\"#bd3786\"],[0.5555555555555556,\"#d8576b\"],[0.6666666666666666,\"#ed7953\"],[0.7777777777777778,\"#fb9f3a\"],[0.8888888888888888,\"#fdca26\"],[1.0,\"#f0f921\"]],\"type\":\"histogram2d\"}],\"histogram\":[{\"marker\":{\"pattern\":{\"fillmode\":\"overlay\",\"size\":10,\"solidity\":0.2}},\"type\":\"histogram\"}],\"mesh3d\":[{\"colorbar\":{\"outlinewidth\":0,\"ticks\":\"\"},\"type\":\"mesh3d\"}],\"parcoords\":[{\"line\":{\"colorbar\":{\"outlinewidth\":0,\"ticks\":\"\"}},\"type\":\"parcoords\"}],\"pie\":[{\"automargin\":true,\"type\":\"pie\"}],\"scatter3d\":[{\"line\":{\"colorbar\":{\"outlinewidth\":0,\"ticks\":\"\"}},\"marker\":{\"colorbar\":{\"outlinewidth\":0,\"ticks\":\"\"}},\"type\":\"scatter3d\"}],\"scattercarpet\":[{\"marker\":{\"colorbar\":{\"outlinewidth\":0,\"ticks\":\"\"}},\"type\":\"scattercarpet\"}],\"scattergeo\":[{\"marker\":{\"colorbar\":{\"outlinewidth\":0,\"ticks\":\"\"}},\"type\":\"scattergeo\"}],\"scattergl\":[{\"marker\":{\"colorbar\":{\"outlinewidth\":0,\"ticks\":\"\"}},\"type\":\"scattergl\"}],\"scattermapbox\":[{\"marker\":{\"colorbar\":{\"outlinewidth\":0,\"ticks\":\"\"}},\"type\":\"scattermapbox\"}],\"scatterpolargl\":[{\"marker\":{\"colorbar\":{\"outlinewidth\":0,\"ticks\":\"\"}},\"type\":\"scatterpolargl\"}],\"scatterpolar\":[{\"marker\":{\"colorbar\":{\"outlinewidth\":0,\"ticks\":\"\"}},\"type\":\"scatterpolar\"}],\"scatter\":[{\"fillpattern\":{\"fillmode\":\"overlay\",\"size\":10,\"solidity\":0.2},\"type\":\"scatter\"}],\"scatterternary\":[{\"marker\":{\"colorbar\":{\"outlinewidth\":0,\"ticks\":\"\"}},\"type\":\"scatterternary\"}],\"surface\":[{\"colorbar\":{\"outlinewidth\":0,\"ticks\":\"\"},\"colorscale\":[[0.0,\"#0d0887\"],[0.1111111111111111,\"#46039f\"],[0.2222222222222222,\"#7201a8\"],[0.3333333333333333,\"#9c179e\"],[0.4444444444444444,\"#bd3786\"],[0.5555555555555556,\"#d8576b\"],[0.6666666666666666,\"#ed7953\"],[0.7777777777777778,\"#fb9f3a\"],[0.8888888888888888,\"#fdca26\"],[1.0,\"#f0f921\"]],\"type\":\"surface\"}],\"table\":[{\"cells\":{\"fill\":{\"color\":\"#EBF0F8\"},\"line\":{\"color\":\"white\"}},\"header\":{\"fill\":{\"color\":\"#C8D4E3\"},\"line\":{\"color\":\"white\"}},\"type\":\"table\"}]},\"layout\":{\"annotationdefaults\":{\"arrowcolor\":\"#2a3f5f\",\"arrowhead\":0,\"arrowwidth\":1},\"autotypenumbers\":\"strict\",\"coloraxis\":{\"colorbar\":{\"outlinewidth\":0,\"ticks\":\"\"}},\"colorscale\":{\"diverging\":[[0,\"#8e0152\"],[0.1,\"#c51b7d\"],[0.2,\"#de77ae\"],[0.3,\"#f1b6da\"],[0.4,\"#fde0ef\"],[0.5,\"#f7f7f7\"],[0.6,\"#e6f5d0\"],[0.7,\"#b8e186\"],[0.8,\"#7fbc41\"],[0.9,\"#4d9221\"],[1,\"#276419\"]],\"sequential\":[[0.0,\"#0d0887\"],[0.1111111111111111,\"#46039f\"],[0.2222222222222222,\"#7201a8\"],[0.3333333333333333,\"#9c179e\"],[0.4444444444444444,\"#bd3786\"],[0.5555555555555556,\"#d8576b\"],[0.6666666666666666,\"#ed7953\"],[0.7777777777777778,\"#fb9f3a\"],[0.8888888888888888,\"#fdca26\"],[1.0,\"#f0f921\"]],\"sequentialminus\":[[0.0,\"#0d0887\"],[0.1111111111111111,\"#46039f\"],[0.2222222222222222,\"#7201a8\"],[0.3333333333333333,\"#9c179e\"],[0.4444444444444444,\"#bd3786\"],[0.5555555555555556,\"#d8576b\"],[0.6666666666666666,\"#ed7953\"],[0.7777777777777778,\"#fb9f3a\"],[0.8888888888888888,\"#fdca26\"],[1.0,\"#f0f921\"]]},\"colorway\":[\"#636efa\",\"#EF553B\",\"#00cc96\",\"#ab63fa\",\"#FFA15A\",\"#19d3f3\",\"#FF6692\",\"#B6E880\",\"#FF97FF\",\"#FECB52\"],\"font\":{\"color\":\"#2a3f5f\"},\"geo\":{\"bgcolor\":\"white\",\"lakecolor\":\"white\",\"landcolor\":\"#E5ECF6\",\"showlakes\":true,\"showland\":true,\"subunitcolor\":\"white\"},\"hoverlabel\":{\"align\":\"left\"},\"hovermode\":\"closest\",\"mapbox\":{\"style\":\"light\"},\"paper_bgcolor\":\"white\",\"plot_bgcolor\":\"#E5ECF6\",\"polar\":{\"angularaxis\":{\"gridcolor\":\"white\",\"linecolor\":\"white\",\"ticks\":\"\"},\"bgcolor\":\"#E5ECF6\",\"radialaxis\":{\"gridcolor\":\"white\",\"linecolor\":\"white\",\"ticks\":\"\"}},\"scene\":{\"xaxis\":{\"backgroundcolor\":\"#E5ECF6\",\"gridcolor\":\"white\",\"gridwidth\":2,\"linecolor\":\"white\",\"showbackground\":true,\"ticks\":\"\",\"zerolinecolor\":\"white\"},\"yaxis\":{\"backgroundcolor\":\"#E5ECF6\",\"gridcolor\":\"white\",\"gridwidth\":2,\"linecolor\":\"white\",\"showbackground\":true,\"ticks\":\"\",\"zerolinecolor\":\"white\"},\"zaxis\":{\"backgroundcolor\":\"#E5ECF6\",\"gridcolor\":\"white\",\"gridwidth\":2,\"linecolor\":\"white\",\"showbackground\":true,\"ticks\":\"\",\"zerolinecolor\":\"white\"}},\"shapedefaults\":{\"line\":{\"color\":\"#2a3f5f\"}},\"ternary\":{\"aaxis\":{\"gridcolor\":\"white\",\"linecolor\":\"white\",\"ticks\":\"\"},\"baxis\":{\"gridcolor\":\"white\",\"linecolor\":\"white\",\"ticks\":\"\"},\"bgcolor\":\"#E5ECF6\",\"caxis\":{\"gridcolor\":\"white\",\"linecolor\":\"white\",\"ticks\":\"\"}},\"title\":{\"x\":0.05},\"xaxis\":{\"automargin\":true,\"gridcolor\":\"white\",\"linecolor\":\"white\",\"ticks\":\"\",\"title\":{\"standoff\":15},\"zerolinecolor\":\"white\",\"zerolinewidth\":2},\"yaxis\":{\"automargin\":true,\"gridcolor\":\"white\",\"linecolor\":\"white\",\"ticks\":\"\",\"title\":{\"standoff\":15},\"zerolinecolor\":\"white\",\"zerolinewidth\":2}}},\"title\":{\"text\":\"Training Results\"},\"xaxis\":{\"anchor\":\"y\",\"domain\":[0.0,1.0],\"matches\":\"x2\",\"showticklabels\":false},\"yaxis\":{\"anchor\":\"x\",\"domain\":[0.51,1.0],\"title\":{\"text\":\"Duration\"}},\"xaxis2\":{\"anchor\":\"y2\",\"domain\":[0.0,1.0],\"title\":{\"text\":\"Episode\"}},\"yaxis2\":{\"anchor\":\"x2\",\"domain\":[0.0,0.49],\"title\":{\"text\":\"Reward\"}}},                        {\"responsive\": true}                    ).then(function(){\n",
              "                            \n",
              "var gd = document.getElementById('06ace33a-640c-4c97-83b6-77e559bbfadd');\n",
              "var x = new MutationObserver(function (mutations, observer) {{\n",
              "        var display = window.getComputedStyle(gd).display;\n",
              "        if (!display || display === 'none') {{\n",
              "            console.log([gd, 'removed!']);\n",
              "            Plotly.purge(gd);\n",
              "            observer.disconnect();\n",
              "        }}\n",
              "}});\n",
              "\n",
              "// Listen for the removal of the full notebook cells\n",
              "var notebookContainer = gd.closest('#notebook-container');\n",
              "if (notebookContainer) {{\n",
              "    x.observe(notebookContainer, {childList: true});\n",
              "}}\n",
              "\n",
              "// Listen for the clearing of the current output cell\n",
              "var outputEl = gd.closest('.output');\n",
              "if (outputEl) {{\n",
              "    x.observe(outputEl, {childList: true});\n",
              "}}\n",
              "\n",
              "                        })                };                            </script>        </div>\n",
              "</body>\n",
              "</html>"
            ]
          },
          "metadata": {}
        }
      ],
      "source": [
        "DISPLAY_GRAPH_DURING_TRAINING = True\n",
        "\n",
        "num_episodes = 600\n",
        "\n",
        "steps_done = 0\n",
        "steps_at_max_duration = 0\n",
        "\n",
        "for i_episode in trange(num_episodes):\n",
        "    # Initialize the environment and get its state\n",
        "    state, info = env.reset()\n",
        "    state = torch.tensor(state, dtype=torch.float32, device=device).unsqueeze(0)\n",
        "    total_reward = 0.0\n",
        "    for t in count():\n",
        "        action = select_action(state, steps_done)\n",
        "        observation, reward, terminated, truncated, _ = env.step(action.item())\n",
        "        total_reward += reward # type: ignore\n",
        "        reward = torch.tensor([reward], device=device)\n",
        "        done = terminated or truncated\n",
        "\n",
        "        if terminated:\n",
        "            next_state = None\n",
        "        else:\n",
        "            next_state = torch.tensor(observation, dtype=torch.float32, device=device).unsqueeze(0)\n",
        "\n",
        "        # Store the transition in memory\n",
        "        memory.push(state, action, next_state, reward)\n",
        "\n",
        "        # Move to the next state\n",
        "        state = next_state # type: ignore\n",
        "\n",
        "        # Perform one step of the optimization (on the policy network)\n",
        "        optimize_model()\n",
        "        # Update the target network, copying all weights and biases in DQN\n",
        "        policy_net_update()\n",
        "\n",
        "        steps_done += 1\n",
        "\n",
        "        if done:\n",
        "            break\n",
        "    plot_durations.update(t, total_reward, redisplay=DISPLAY_GRAPH_DURING_TRAINING)\n",
        "\n",
        "    # Early stopping check\n",
        "    # If we're hitting the maximum duration too often, we're probably stuck\n",
        "    if t > MAX_ENV_STEPS*0.99:\n",
        "        steps_at_max_duration += 1\n",
        "        if steps_at_max_duration > 25:\n",
        "            print(f\"Breaking early, episode {i_episode}\")\n",
        "            break\n",
        "    else:\n",
        "        steps_at_max_duration = 0\n",
        "\n",
        "print('Complete')\n",
        "plot_durations.finish(\"Training Results\")\n",
        "plot_durations.show()"
      ]
    },
    {
      "cell_type": "code",
      "source": [],
      "metadata": {
        "id": "qisFvwD_33Nu"
      },
      "execution_count": null,
      "outputs": []
    },
    {
      "cell_type": "markdown",
      "metadata": {
        "id": "rzWRN_fgyvPW"
      },
      "source": [
        "# Export the training videos\n",
        "\n",
        "We want to be able to see the training we just completed, so lets wrap the videos into a zip file for download from Colab. (Local users can find the videos in the current working directory and skip this step.)\n",
        "\n",
        "Note that if you didn't set up a RecordVideo wrapper on your environment, there won't be any videos!"
      ]
    },
    {
      "cell_type": "code",
      "execution_count": null,
      "metadata": {
        "id": "9xmZ27kiyvPW",
        "colab": {
          "base_uri": "https://localhost:8080/"
        },
        "outputId": "c8291ccf-3bac-402f-ca6d-513003f54a9c"
      },
      "outputs": [
        {
          "output_type": "stream",
          "name": "stdout",
          "text": [
            "Zipping 24 videos from LunarLander-v2_videos...\n",
            "Videos zipped to LunarLander-v2_videos.zip\n"
          ]
        }
      ],
      "source": [
        "video_paths = list(Path(VIDEOS_DIR).glob(\"*.mp4\"))\n",
        "if not video_paths:\n",
        "    print(f\"No videos found in {VIDEOS_DIR}\")\n",
        "else:\n",
        "    print(f\"Zipping {len(video_paths)} videos from {VIDEOS_DIR}...\")\n",
        "    with ZipFile(f\"{VIDEOS_DIR}.zip\", \"w\") as video_zip:\n",
        "        for video_path in video_paths:\n",
        "            video_zip.write(video_path)\n",
        "\n",
        "    # Try to display a link to the zipped videos\n",
        "    print(f\"Videos zipped to {VIDEOS_DIR}.zip\")"
      ]
    },
    {
      "cell_type": "markdown",
      "metadata": {
        "id": "CkLAfBXAyvPW"
      },
      "source": [
        "# Save the model\n",
        "\n",
        "We're going to write the reinforcement learning model to disk so we can use it later.\n",
        "\n",
        "We save it in a pytorch torchscript format, which will allow us to load it and run it even if we change the Python code above. This is useful for deployment, as we can load the model in a C++ application, for example. We can also load the model back into Python and continue training it, or use it to make predictions."
      ]
    },
    {
      "cell_type": "code",
      "execution_count": null,
      "metadata": {
        "id": "YAV9Z-BayvPW",
        "colab": {
          "base_uri": "https://localhost:8080/"
        },
        "outputId": "08a78d3b-bbd7-4000-b3be-bf0ae1b39bb3"
      },
      "outputs": [
        {
          "output_type": "stream",
          "name": "stdout",
          "text": [
            "Model saved to LunarLander-v2_dqn.pt\n"
          ]
        }
      ],
      "source": [
        "LANDER_NET_FILE = f\"{GYM_ENV}_dqn.pt\"\n",
        "torch.jit.save(policy_net.cpu(), LANDER_NET_FILE)\n",
        "\n",
        "# Try to display a link to the model file\n",
        "print(f\"Model saved to {LANDER_NET_FILE}\")"
      ]
    },
    {
      "cell_type": "markdown",
      "metadata": {
        "id": "dM28k2XNyvPW"
      },
      "source": [
        "# Evaluate the model\n",
        "\n",
        "We're going to evaluate the model by running it in the environment and seeing how well it performs over a hundred runs. This is evaluation only, so we should be able to run this part faster than the training part from above."
      ]
    },
    {
      "cell_type": "code",
      "execution_count": null,
      "metadata": {
        "id": "fh1INudbyvPW"
      },
      "outputs": [],
      "source": [
        "LANDER_NET_FILE = f\"{GYM_ENV}_dqn.pt\"\n",
        "model = torch.jit.load(LANDER_NET_FILE).to(device)"
      ]
    },
    {
      "cell_type": "code",
      "execution_count": null,
      "metadata": {
        "id": "UpSjR7xSyvPW"
      },
      "outputs": [],
      "source": [
        "# Unwrap our environment to prevent any weirdness.\n",
        "eval_env = TimeLimit(env.unwrapped, max_episode_steps=750)"
      ]
    },
    {
      "cell_type": "code",
      "execution_count": null,
      "metadata": {
        "id": "9nb9yI9tyvPW"
      },
      "outputs": [],
      "source": [
        "# TODO: Track reward for the episodes\n",
        "durations = []\n",
        "rewards = []"
      ]
    },
    {
      "cell_type": "code",
      "execution_count": null,
      "metadata": {
        "id": "JZ0TxfNByvPW",
        "colab": {
          "base_uri": "https://localhost:8080/"
        },
        "outputId": "80642923-4c25-431c-ddf7-93f31ba0b436"
      },
      "outputs": [
        {
          "output_type": "stream",
          "name": "stderr",
          "text": [
            "100%|██████████| 100/100 [00:24<00:00,  4.16it/s]\n"
          ]
        }
      ],
      "source": [
        "with torch.no_grad():\n",
        "    EVAL_EPISODES = 100\n",
        "    for _ in trange(EVAL_EPISODES):\n",
        "        state, info = eval_env.reset()\n",
        "        state = torch.tensor(state, dtype=torch.float32, device=device).unsqueeze(0)\n",
        "        total_reward = 0\n",
        "        for t in count():\n",
        "            action = model(state).argmax().item()\n",
        "            observation, reward, terminated, truncated, _ = eval_env.step(action)\n",
        "            total_reward += reward\n",
        "            if terminated or truncated:\n",
        "                break\n",
        "            state = torch.tensor(observation, dtype=torch.float32, device=device).unsqueeze(0)\n",
        "        durations.append(t)\n",
        "        rewards.append(total_reward)"
      ]
    },
    {
      "cell_type": "markdown",
      "metadata": {
        "id": "xMNQ6lSZyvPW"
      },
      "source": [
        "# Plot the evaluation results\n",
        "\n",
        "The cartpole assignment is considered solved when the agent can pass all steps in a given episode without the pole falling over. Here, we've limited the evaluation to 750 steps, so we should see over 700 steps on average in our durations histogram below."
      ]
    },
    {
      "cell_type": "code",
      "execution_count": null,
      "metadata": {
        "id": "NOW50l-MyvPW",
        "colab": {
          "base_uri": "https://localhost:8080/",
          "height": 560
        },
        "outputId": "7ef90d17-cfb6-4af9-b3de-ade98c3ef733"
      },
      "outputs": [
        {
          "output_type": "display_data",
          "data": {
            "text/html": [
              "<html>\n",
              "<head><meta charset=\"utf-8\" /></head>\n",
              "<body>\n",
              "    <div>            <script src=\"https://cdnjs.cloudflare.com/ajax/libs/mathjax/2.7.5/MathJax.js?config=TeX-AMS-MML_SVG\"></script><script type=\"text/javascript\">if (window.MathJax && window.MathJax.Hub && window.MathJax.Hub.Config) {window.MathJax.Hub.Config({SVG: {font: \"STIX-Web\"}});}</script>                <script type=\"text/javascript\">window.PlotlyConfig = {MathJaxConfig: 'local'};</script>\n",
              "        <script charset=\"utf-8\" src=\"https://cdn.plot.ly/plotly-2.24.1.min.js\"></script>                <div id=\"6e8ba46f-cd9f-4899-953f-281a3087a80e\" class=\"plotly-graph-div\" style=\"height:525px; width:100%;\"></div>            <script type=\"text/javascript\">                                    window.PLOTLYENV=window.PLOTLYENV || {};                                    if (document.getElementById(\"6e8ba46f-cd9f-4899-953f-281a3087a80e\")) {                    Plotly.newPlot(                        \"6e8ba46f-cd9f-4899-953f-281a3087a80e\",                        [{\"alignmentgroup\":\"True\",\"bingroup\":\"x\",\"hovertemplate\":\"x=%{x}\\u003cbr\\u003ecount=%{y}\\u003cextra\\u003e\\u003c\\u002fextra\\u003e\",\"legendgroup\":\"\",\"marker\":{\"color\":\"#636efa\",\"pattern\":{\"shape\":\"\"}},\"name\":\"\",\"offsetgroup\":\"\",\"orientation\":\"v\",\"showlegend\":false,\"x\":[252,278,248,263,749,256,247,201,636,307,218,271,282,305,199,268,349,298,276,249,256,238,235,326,275,283,749,280,198,321,302,261,293,263,276,330,295,254,329,279,303,217,259,274,300,285,195,183,241,279,299,290,256,281,248,307,199,298,260,749,290,749,197,275,220,271,175,198,264,311,264,145,304,200,279,282,308,270,196,278,334,310,266,202,294,193,312,342,310,270,275,221,278,271,296,264,196,326,268,310],\"xaxis\":\"x\",\"yaxis\":\"y\",\"type\":\"histogram\"}],                        {\"template\":{\"data\":{\"histogram2dcontour\":[{\"type\":\"histogram2dcontour\",\"colorbar\":{\"outlinewidth\":0,\"ticks\":\"\"},\"colorscale\":[[0.0,\"#0d0887\"],[0.1111111111111111,\"#46039f\"],[0.2222222222222222,\"#7201a8\"],[0.3333333333333333,\"#9c179e\"],[0.4444444444444444,\"#bd3786\"],[0.5555555555555556,\"#d8576b\"],[0.6666666666666666,\"#ed7953\"],[0.7777777777777778,\"#fb9f3a\"],[0.8888888888888888,\"#fdca26\"],[1.0,\"#f0f921\"]]}],\"choropleth\":[{\"type\":\"choropleth\",\"colorbar\":{\"outlinewidth\":0,\"ticks\":\"\"}}],\"histogram2d\":[{\"type\":\"histogram2d\",\"colorbar\":{\"outlinewidth\":0,\"ticks\":\"\"},\"colorscale\":[[0.0,\"#0d0887\"],[0.1111111111111111,\"#46039f\"],[0.2222222222222222,\"#7201a8\"],[0.3333333333333333,\"#9c179e\"],[0.4444444444444444,\"#bd3786\"],[0.5555555555555556,\"#d8576b\"],[0.6666666666666666,\"#ed7953\"],[0.7777777777777778,\"#fb9f3a\"],[0.8888888888888888,\"#fdca26\"],[1.0,\"#f0f921\"]]}],\"heatmap\":[{\"type\":\"heatmap\",\"colorbar\":{\"outlinewidth\":0,\"ticks\":\"\"},\"colorscale\":[[0.0,\"#0d0887\"],[0.1111111111111111,\"#46039f\"],[0.2222222222222222,\"#7201a8\"],[0.3333333333333333,\"#9c179e\"],[0.4444444444444444,\"#bd3786\"],[0.5555555555555556,\"#d8576b\"],[0.6666666666666666,\"#ed7953\"],[0.7777777777777778,\"#fb9f3a\"],[0.8888888888888888,\"#fdca26\"],[1.0,\"#f0f921\"]]}],\"heatmapgl\":[{\"type\":\"heatmapgl\",\"colorbar\":{\"outlinewidth\":0,\"ticks\":\"\"},\"colorscale\":[[0.0,\"#0d0887\"],[0.1111111111111111,\"#46039f\"],[0.2222222222222222,\"#7201a8\"],[0.3333333333333333,\"#9c179e\"],[0.4444444444444444,\"#bd3786\"],[0.5555555555555556,\"#d8576b\"],[0.6666666666666666,\"#ed7953\"],[0.7777777777777778,\"#fb9f3a\"],[0.8888888888888888,\"#fdca26\"],[1.0,\"#f0f921\"]]}],\"contourcarpet\":[{\"type\":\"contourcarpet\",\"colorbar\":{\"outlinewidth\":0,\"ticks\":\"\"}}],\"contour\":[{\"type\":\"contour\",\"colorbar\":{\"outlinewidth\":0,\"ticks\":\"\"},\"colorscale\":[[0.0,\"#0d0887\"],[0.1111111111111111,\"#46039f\"],[0.2222222222222222,\"#7201a8\"],[0.3333333333333333,\"#9c179e\"],[0.4444444444444444,\"#bd3786\"],[0.5555555555555556,\"#d8576b\"],[0.6666666666666666,\"#ed7953\"],[0.7777777777777778,\"#fb9f3a\"],[0.8888888888888888,\"#fdca26\"],[1.0,\"#f0f921\"]]}],\"surface\":[{\"type\":\"surface\",\"colorbar\":{\"outlinewidth\":0,\"ticks\":\"\"},\"colorscale\":[[0.0,\"#0d0887\"],[0.1111111111111111,\"#46039f\"],[0.2222222222222222,\"#7201a8\"],[0.3333333333333333,\"#9c179e\"],[0.4444444444444444,\"#bd3786\"],[0.5555555555555556,\"#d8576b\"],[0.6666666666666666,\"#ed7953\"],[0.7777777777777778,\"#fb9f3a\"],[0.8888888888888888,\"#fdca26\"],[1.0,\"#f0f921\"]]}],\"mesh3d\":[{\"type\":\"mesh3d\",\"colorbar\":{\"outlinewidth\":0,\"ticks\":\"\"}}],\"scatter\":[{\"fillpattern\":{\"fillmode\":\"overlay\",\"size\":10,\"solidity\":0.2},\"type\":\"scatter\"}],\"parcoords\":[{\"type\":\"parcoords\",\"line\":{\"colorbar\":{\"outlinewidth\":0,\"ticks\":\"\"}}}],\"scatterpolargl\":[{\"type\":\"scatterpolargl\",\"marker\":{\"colorbar\":{\"outlinewidth\":0,\"ticks\":\"\"}}}],\"bar\":[{\"error_x\":{\"color\":\"#2a3f5f\"},\"error_y\":{\"color\":\"#2a3f5f\"},\"marker\":{\"line\":{\"color\":\"#E5ECF6\",\"width\":0.5},\"pattern\":{\"fillmode\":\"overlay\",\"size\":10,\"solidity\":0.2}},\"type\":\"bar\"}],\"scattergeo\":[{\"type\":\"scattergeo\",\"marker\":{\"colorbar\":{\"outlinewidth\":0,\"ticks\":\"\"}}}],\"scatterpolar\":[{\"type\":\"scatterpolar\",\"marker\":{\"colorbar\":{\"outlinewidth\":0,\"ticks\":\"\"}}}],\"histogram\":[{\"marker\":{\"pattern\":{\"fillmode\":\"overlay\",\"size\":10,\"solidity\":0.2}},\"type\":\"histogram\"}],\"scattergl\":[{\"type\":\"scattergl\",\"marker\":{\"colorbar\":{\"outlinewidth\":0,\"ticks\":\"\"}}}],\"scatter3d\":[{\"type\":\"scatter3d\",\"line\":{\"colorbar\":{\"outlinewidth\":0,\"ticks\":\"\"}},\"marker\":{\"colorbar\":{\"outlinewidth\":0,\"ticks\":\"\"}}}],\"scattermapbox\":[{\"type\":\"scattermapbox\",\"marker\":{\"colorbar\":{\"outlinewidth\":0,\"ticks\":\"\"}}}],\"scatterternary\":[{\"type\":\"scatterternary\",\"marker\":{\"colorbar\":{\"outlinewidth\":0,\"ticks\":\"\"}}}],\"scattercarpet\":[{\"type\":\"scattercarpet\",\"marker\":{\"colorbar\":{\"outlinewidth\":0,\"ticks\":\"\"}}}],\"carpet\":[{\"aaxis\":{\"endlinecolor\":\"#2a3f5f\",\"gridcolor\":\"white\",\"linecolor\":\"white\",\"minorgridcolor\":\"white\",\"startlinecolor\":\"#2a3f5f\"},\"baxis\":{\"endlinecolor\":\"#2a3f5f\",\"gridcolor\":\"white\",\"linecolor\":\"white\",\"minorgridcolor\":\"white\",\"startlinecolor\":\"#2a3f5f\"},\"type\":\"carpet\"}],\"table\":[{\"cells\":{\"fill\":{\"color\":\"#EBF0F8\"},\"line\":{\"color\":\"white\"}},\"header\":{\"fill\":{\"color\":\"#C8D4E3\"},\"line\":{\"color\":\"white\"}},\"type\":\"table\"}],\"barpolar\":[{\"marker\":{\"line\":{\"color\":\"#E5ECF6\",\"width\":0.5},\"pattern\":{\"fillmode\":\"overlay\",\"size\":10,\"solidity\":0.2}},\"type\":\"barpolar\"}],\"pie\":[{\"automargin\":true,\"type\":\"pie\"}]},\"layout\":{\"autotypenumbers\":\"strict\",\"colorway\":[\"#636efa\",\"#EF553B\",\"#00cc96\",\"#ab63fa\",\"#FFA15A\",\"#19d3f3\",\"#FF6692\",\"#B6E880\",\"#FF97FF\",\"#FECB52\"],\"font\":{\"color\":\"#2a3f5f\"},\"hovermode\":\"closest\",\"hoverlabel\":{\"align\":\"left\"},\"paper_bgcolor\":\"white\",\"plot_bgcolor\":\"#E5ECF6\",\"polar\":{\"bgcolor\":\"#E5ECF6\",\"angularaxis\":{\"gridcolor\":\"white\",\"linecolor\":\"white\",\"ticks\":\"\"},\"radialaxis\":{\"gridcolor\":\"white\",\"linecolor\":\"white\",\"ticks\":\"\"}},\"ternary\":{\"bgcolor\":\"#E5ECF6\",\"aaxis\":{\"gridcolor\":\"white\",\"linecolor\":\"white\",\"ticks\":\"\"},\"baxis\":{\"gridcolor\":\"white\",\"linecolor\":\"white\",\"ticks\":\"\"},\"caxis\":{\"gridcolor\":\"white\",\"linecolor\":\"white\",\"ticks\":\"\"}},\"coloraxis\":{\"colorbar\":{\"outlinewidth\":0,\"ticks\":\"\"}},\"colorscale\":{\"sequential\":[[0.0,\"#0d0887\"],[0.1111111111111111,\"#46039f\"],[0.2222222222222222,\"#7201a8\"],[0.3333333333333333,\"#9c179e\"],[0.4444444444444444,\"#bd3786\"],[0.5555555555555556,\"#d8576b\"],[0.6666666666666666,\"#ed7953\"],[0.7777777777777778,\"#fb9f3a\"],[0.8888888888888888,\"#fdca26\"],[1.0,\"#f0f921\"]],\"sequentialminus\":[[0.0,\"#0d0887\"],[0.1111111111111111,\"#46039f\"],[0.2222222222222222,\"#7201a8\"],[0.3333333333333333,\"#9c179e\"],[0.4444444444444444,\"#bd3786\"],[0.5555555555555556,\"#d8576b\"],[0.6666666666666666,\"#ed7953\"],[0.7777777777777778,\"#fb9f3a\"],[0.8888888888888888,\"#fdca26\"],[1.0,\"#f0f921\"]],\"diverging\":[[0,\"#8e0152\"],[0.1,\"#c51b7d\"],[0.2,\"#de77ae\"],[0.3,\"#f1b6da\"],[0.4,\"#fde0ef\"],[0.5,\"#f7f7f7\"],[0.6,\"#e6f5d0\"],[0.7,\"#b8e186\"],[0.8,\"#7fbc41\"],[0.9,\"#4d9221\"],[1,\"#276419\"]]},\"xaxis\":{\"gridcolor\":\"white\",\"linecolor\":\"white\",\"ticks\":\"\",\"title\":{\"standoff\":15},\"zerolinecolor\":\"white\",\"automargin\":true,\"zerolinewidth\":2},\"yaxis\":{\"gridcolor\":\"white\",\"linecolor\":\"white\",\"ticks\":\"\",\"title\":{\"standoff\":15},\"zerolinecolor\":\"white\",\"automargin\":true,\"zerolinewidth\":2},\"scene\":{\"xaxis\":{\"backgroundcolor\":\"#E5ECF6\",\"gridcolor\":\"white\",\"linecolor\":\"white\",\"showbackground\":true,\"ticks\":\"\",\"zerolinecolor\":\"white\",\"gridwidth\":2},\"yaxis\":{\"backgroundcolor\":\"#E5ECF6\",\"gridcolor\":\"white\",\"linecolor\":\"white\",\"showbackground\":true,\"ticks\":\"\",\"zerolinecolor\":\"white\",\"gridwidth\":2},\"zaxis\":{\"backgroundcolor\":\"#E5ECF6\",\"gridcolor\":\"white\",\"linecolor\":\"white\",\"showbackground\":true,\"ticks\":\"\",\"zerolinecolor\":\"white\",\"gridwidth\":2}},\"shapedefaults\":{\"line\":{\"color\":\"#2a3f5f\"}},\"annotationdefaults\":{\"arrowcolor\":\"#2a3f5f\",\"arrowhead\":0,\"arrowwidth\":1},\"geo\":{\"bgcolor\":\"white\",\"landcolor\":\"#E5ECF6\",\"subunitcolor\":\"white\",\"showland\":true,\"showlakes\":true,\"lakecolor\":\"white\"},\"title\":{\"x\":0.05},\"mapbox\":{\"style\":\"light\"}}},\"xaxis\":{\"anchor\":\"y\",\"domain\":[0.0,1.0],\"title\":{\"text\":\"Duration\"}},\"yaxis\":{\"anchor\":\"x\",\"domain\":[0.0,1.0],\"title\":{\"text\":\"Frequency\"}},\"legend\":{\"tracegroupgap\":0},\"title\":{\"text\":\"Episode Durations (100 episodes)\"},\"barmode\":\"relative\",\"shapes\":[{\"line\":{\"color\":\"green\",\"dash\":\"dash\"},\"type\":\"line\",\"x0\":289.32,\"x1\":289.32,\"xref\":\"x\",\"y0\":0,\"y1\":1,\"yref\":\"y domain\"}],\"annotations\":[{\"showarrow\":false,\"text\":\"Mean: 289.32\",\"x\":289.32,\"xanchor\":\"left\",\"xref\":\"x\",\"y\":1,\"yanchor\":\"top\",\"yref\":\"y domain\"}],\"margin\":{\"l\":0,\"r\":0,\"t\":30,\"b\":0},\"showlegend\":false},                        {\"responsive\": true}                    ).then(function(){\n",
              "                            \n",
              "var gd = document.getElementById('6e8ba46f-cd9f-4899-953f-281a3087a80e');\n",
              "var x = new MutationObserver(function (mutations, observer) {{\n",
              "        var display = window.getComputedStyle(gd).display;\n",
              "        if (!display || display === 'none') {{\n",
              "            console.log([gd, 'removed!']);\n",
              "            Plotly.purge(gd);\n",
              "            observer.disconnect();\n",
              "        }}\n",
              "}});\n",
              "\n",
              "// Listen for the removal of the full notebook cells\n",
              "var notebookContainer = gd.closest('#notebook-container');\n",
              "if (notebookContainer) {{\n",
              "    x.observe(notebookContainer, {childList: true});\n",
              "}}\n",
              "\n",
              "// Listen for the clearing of the current output cell\n",
              "var outputEl = gd.closest('.output');\n",
              "if (outputEl) {{\n",
              "    x.observe(outputEl, {childList: true});\n",
              "}}\n",
              "\n",
              "                        })                };                            </script>        </div>\n",
              "</body>\n",
              "</html>"
            ]
          },
          "metadata": {}
        },
        {
          "output_type": "stream",
          "name": "stdout",
          "text": [
            "Mean duration: 289.32 steps\n"
          ]
        }
      ],
      "source": [
        "mean_duration = np.mean(durations)\n",
        "fig = px.histogram(x=durations, title=f\"Episode Durations ({len(durations)} episodes)\")\n",
        "fig.add_vline(x = mean_duration, line_dash=\"dash\", line_color=\"green\", annotation_text=f\"Mean: {np.mean(durations):.2f}\", annotation_position=\"top right\")\n",
        "fig.update_layout(xaxis_title=\"Duration\", yaxis_title=\"Frequency\", showlegend=False, margin=dict(l=0, r=0, t=30, b=0))\n",
        "fig.show()\n",
        "print(f\"Mean duration: {mean_duration:.2f} steps\")"
      ]
    },
    {
      "cell_type": "markdown",
      "metadata": {
        "id": "Yp07v9RtyvPX"
      },
      "source": [
        "For other gyms, like LunarLander, the environment is considered solved not on duration, but on _reward_. Specifically, for LunarLander, the gym is solved when the agent can achieve an average reward of 200 over 100 episodes. This code doesn't track nor plot the episode reward, but you can easily modify the code to do so."
      ]
    },
    {
      "cell_type": "code",
      "execution_count": null,
      "metadata": {
        "id": "2j4Q_9-HyvPX",
        "colab": {
          "base_uri": "https://localhost:8080/",
          "height": 560
        },
        "outputId": "fbda0291-2571-441c-e83f-5e981719d55d"
      },
      "outputs": [
        {
          "output_type": "display_data",
          "data": {
            "text/html": [
              "<html>\n",
              "<head><meta charset=\"utf-8\" /></head>\n",
              "<body>\n",
              "    <div>            <script src=\"https://cdnjs.cloudflare.com/ajax/libs/mathjax/2.7.5/MathJax.js?config=TeX-AMS-MML_SVG\"></script><script type=\"text/javascript\">if (window.MathJax && window.MathJax.Hub && window.MathJax.Hub.Config) {window.MathJax.Hub.Config({SVG: {font: \"STIX-Web\"}});}</script>                <script type=\"text/javascript\">window.PlotlyConfig = {MathJaxConfig: 'local'};</script>\n",
              "        <script charset=\"utf-8\" src=\"https://cdn.plot.ly/plotly-2.24.1.min.js\"></script>                <div id=\"ab1e1bf2-bb92-47ba-be66-9972d98f9363\" class=\"plotly-graph-div\" style=\"height:525px; width:100%;\"></div>            <script type=\"text/javascript\">                                    window.PLOTLYENV=window.PLOTLYENV || {};                                    if (document.getElementById(\"ab1e1bf2-bb92-47ba-be66-9972d98f9363\")) {                    Plotly.newPlot(                        \"ab1e1bf2-bb92-47ba-be66-9972d98f9363\",                        [{\"alignmentgroup\":\"True\",\"bingroup\":\"x\",\"hovertemplate\":\"x=%{x}\\u003cbr\\u003ecount=%{y}\\u003cextra\\u003e\\u003c\\u002fextra\\u003e\",\"legendgroup\":\"\",\"marker\":{\"color\":\"#636efa\",\"pattern\":{\"shape\":\"\"}},\"name\":\"\",\"offsetgroup\":\"\",\"orientation\":\"v\",\"showlegend\":false,\"x\":[233.95023422362667,246.71506386244872,277.11854734753507,260.399675408117,126.45012310648889,245.83336570046805,262.13585797889914,-13.918201701555915,243.4305514011735,277.6331581972287,-3.248445496493659,238.77753779709067,229.55167388278895,270.43680274960263,-20.16186534059632,255.17441954751104,296.79033309027966,201.03552961670135,265.72980371282813,225.53676316373412,262.44708407292933,227.3516038401472,269.6702155478727,298.74829124806,228.879093442726,231.20680671278066,145.25553625428012,248.92173411646456,-10.83718604248618,284.53874745620783,279.99068527128463,247.30137848611963,284.2490525773635,261.80746669997745,257.32964586595443,281.9469657201642,293.6118880099465,261.17638156853866,233.84950110995203,269.00971921365135,293.97350583257094,29.730888647749367,282.91833663561897,280.04828054658157,277.8603372687312,252.3007104662704,49.25033240464728,21.11275676776573,293.5479102459394,220.093457160395,262.16935979893253,294.5406675808621,263.3281757294808,297.37880653650484,275.3121535748144,278.5969805112869,26.359107314942534,277.9560390382653,224.54693626806582,123.05942720994481,262.2661746651286,138.91537365472158,1.5906276912602237,271.7968513693784,27.943648036634315,238.89447311977975,25.980395572540857,24.30112210030346,260.4682965308151,283.9335533698742,273.69140459483805,46.21117411313722,272.84533162581886,2.3279494907606164,263.531625997723,267.239116070795,246.1174994436984,258.3552789620897,9.244932583364644,267.0304095351392,284.09960330039627,277.86736395918047,256.4278917220619,31.239667921188442,257.2289358491121,-34.01076620806825,248.0619444297475,270.7587557201822,275.3674019195942,254.48342351770373,284.3606378158577,269.6749519702052,280.72987798717793,255.70428670408228,268.5094334929568,225.85806896738688,-8.676998479626533,261.55671088201075,269.62314339094644,259.0360971893407],\"xaxis\":\"x\",\"yaxis\":\"y\",\"type\":\"histogram\"}],                        {\"template\":{\"data\":{\"histogram2dcontour\":[{\"type\":\"histogram2dcontour\",\"colorbar\":{\"outlinewidth\":0,\"ticks\":\"\"},\"colorscale\":[[0.0,\"#0d0887\"],[0.1111111111111111,\"#46039f\"],[0.2222222222222222,\"#7201a8\"],[0.3333333333333333,\"#9c179e\"],[0.4444444444444444,\"#bd3786\"],[0.5555555555555556,\"#d8576b\"],[0.6666666666666666,\"#ed7953\"],[0.7777777777777778,\"#fb9f3a\"],[0.8888888888888888,\"#fdca26\"],[1.0,\"#f0f921\"]]}],\"choropleth\":[{\"type\":\"choropleth\",\"colorbar\":{\"outlinewidth\":0,\"ticks\":\"\"}}],\"histogram2d\":[{\"type\":\"histogram2d\",\"colorbar\":{\"outlinewidth\":0,\"ticks\":\"\"},\"colorscale\":[[0.0,\"#0d0887\"],[0.1111111111111111,\"#46039f\"],[0.2222222222222222,\"#7201a8\"],[0.3333333333333333,\"#9c179e\"],[0.4444444444444444,\"#bd3786\"],[0.5555555555555556,\"#d8576b\"],[0.6666666666666666,\"#ed7953\"],[0.7777777777777778,\"#fb9f3a\"],[0.8888888888888888,\"#fdca26\"],[1.0,\"#f0f921\"]]}],\"heatmap\":[{\"type\":\"heatmap\",\"colorbar\":{\"outlinewidth\":0,\"ticks\":\"\"},\"colorscale\":[[0.0,\"#0d0887\"],[0.1111111111111111,\"#46039f\"],[0.2222222222222222,\"#7201a8\"],[0.3333333333333333,\"#9c179e\"],[0.4444444444444444,\"#bd3786\"],[0.5555555555555556,\"#d8576b\"],[0.6666666666666666,\"#ed7953\"],[0.7777777777777778,\"#fb9f3a\"],[0.8888888888888888,\"#fdca26\"],[1.0,\"#f0f921\"]]}],\"heatmapgl\":[{\"type\":\"heatmapgl\",\"colorbar\":{\"outlinewidth\":0,\"ticks\":\"\"},\"colorscale\":[[0.0,\"#0d0887\"],[0.1111111111111111,\"#46039f\"],[0.2222222222222222,\"#7201a8\"],[0.3333333333333333,\"#9c179e\"],[0.4444444444444444,\"#bd3786\"],[0.5555555555555556,\"#d8576b\"],[0.6666666666666666,\"#ed7953\"],[0.7777777777777778,\"#fb9f3a\"],[0.8888888888888888,\"#fdca26\"],[1.0,\"#f0f921\"]]}],\"contourcarpet\":[{\"type\":\"contourcarpet\",\"colorbar\":{\"outlinewidth\":0,\"ticks\":\"\"}}],\"contour\":[{\"type\":\"contour\",\"colorbar\":{\"outlinewidth\":0,\"ticks\":\"\"},\"colorscale\":[[0.0,\"#0d0887\"],[0.1111111111111111,\"#46039f\"],[0.2222222222222222,\"#7201a8\"],[0.3333333333333333,\"#9c179e\"],[0.4444444444444444,\"#bd3786\"],[0.5555555555555556,\"#d8576b\"],[0.6666666666666666,\"#ed7953\"],[0.7777777777777778,\"#fb9f3a\"],[0.8888888888888888,\"#fdca26\"],[1.0,\"#f0f921\"]]}],\"surface\":[{\"type\":\"surface\",\"colorbar\":{\"outlinewidth\":0,\"ticks\":\"\"},\"colorscale\":[[0.0,\"#0d0887\"],[0.1111111111111111,\"#46039f\"],[0.2222222222222222,\"#7201a8\"],[0.3333333333333333,\"#9c179e\"],[0.4444444444444444,\"#bd3786\"],[0.5555555555555556,\"#d8576b\"],[0.6666666666666666,\"#ed7953\"],[0.7777777777777778,\"#fb9f3a\"],[0.8888888888888888,\"#fdca26\"],[1.0,\"#f0f921\"]]}],\"mesh3d\":[{\"type\":\"mesh3d\",\"colorbar\":{\"outlinewidth\":0,\"ticks\":\"\"}}],\"scatter\":[{\"fillpattern\":{\"fillmode\":\"overlay\",\"size\":10,\"solidity\":0.2},\"type\":\"scatter\"}],\"parcoords\":[{\"type\":\"parcoords\",\"line\":{\"colorbar\":{\"outlinewidth\":0,\"ticks\":\"\"}}}],\"scatterpolargl\":[{\"type\":\"scatterpolargl\",\"marker\":{\"colorbar\":{\"outlinewidth\":0,\"ticks\":\"\"}}}],\"bar\":[{\"error_x\":{\"color\":\"#2a3f5f\"},\"error_y\":{\"color\":\"#2a3f5f\"},\"marker\":{\"line\":{\"color\":\"#E5ECF6\",\"width\":0.5},\"pattern\":{\"fillmode\":\"overlay\",\"size\":10,\"solidity\":0.2}},\"type\":\"bar\"}],\"scattergeo\":[{\"type\":\"scattergeo\",\"marker\":{\"colorbar\":{\"outlinewidth\":0,\"ticks\":\"\"}}}],\"scatterpolar\":[{\"type\":\"scatterpolar\",\"marker\":{\"colorbar\":{\"outlinewidth\":0,\"ticks\":\"\"}}}],\"histogram\":[{\"marker\":{\"pattern\":{\"fillmode\":\"overlay\",\"size\":10,\"solidity\":0.2}},\"type\":\"histogram\"}],\"scattergl\":[{\"type\":\"scattergl\",\"marker\":{\"colorbar\":{\"outlinewidth\":0,\"ticks\":\"\"}}}],\"scatter3d\":[{\"type\":\"scatter3d\",\"line\":{\"colorbar\":{\"outlinewidth\":0,\"ticks\":\"\"}},\"marker\":{\"colorbar\":{\"outlinewidth\":0,\"ticks\":\"\"}}}],\"scattermapbox\":[{\"type\":\"scattermapbox\",\"marker\":{\"colorbar\":{\"outlinewidth\":0,\"ticks\":\"\"}}}],\"scatterternary\":[{\"type\":\"scatterternary\",\"marker\":{\"colorbar\":{\"outlinewidth\":0,\"ticks\":\"\"}}}],\"scattercarpet\":[{\"type\":\"scattercarpet\",\"marker\":{\"colorbar\":{\"outlinewidth\":0,\"ticks\":\"\"}}}],\"carpet\":[{\"aaxis\":{\"endlinecolor\":\"#2a3f5f\",\"gridcolor\":\"white\",\"linecolor\":\"white\",\"minorgridcolor\":\"white\",\"startlinecolor\":\"#2a3f5f\"},\"baxis\":{\"endlinecolor\":\"#2a3f5f\",\"gridcolor\":\"white\",\"linecolor\":\"white\",\"minorgridcolor\":\"white\",\"startlinecolor\":\"#2a3f5f\"},\"type\":\"carpet\"}],\"table\":[{\"cells\":{\"fill\":{\"color\":\"#EBF0F8\"},\"line\":{\"color\":\"white\"}},\"header\":{\"fill\":{\"color\":\"#C8D4E3\"},\"line\":{\"color\":\"white\"}},\"type\":\"table\"}],\"barpolar\":[{\"marker\":{\"line\":{\"color\":\"#E5ECF6\",\"width\":0.5},\"pattern\":{\"fillmode\":\"overlay\",\"size\":10,\"solidity\":0.2}},\"type\":\"barpolar\"}],\"pie\":[{\"automargin\":true,\"type\":\"pie\"}]},\"layout\":{\"autotypenumbers\":\"strict\",\"colorway\":[\"#636efa\",\"#EF553B\",\"#00cc96\",\"#ab63fa\",\"#FFA15A\",\"#19d3f3\",\"#FF6692\",\"#B6E880\",\"#FF97FF\",\"#FECB52\"],\"font\":{\"color\":\"#2a3f5f\"},\"hovermode\":\"closest\",\"hoverlabel\":{\"align\":\"left\"},\"paper_bgcolor\":\"white\",\"plot_bgcolor\":\"#E5ECF6\",\"polar\":{\"bgcolor\":\"#E5ECF6\",\"angularaxis\":{\"gridcolor\":\"white\",\"linecolor\":\"white\",\"ticks\":\"\"},\"radialaxis\":{\"gridcolor\":\"white\",\"linecolor\":\"white\",\"ticks\":\"\"}},\"ternary\":{\"bgcolor\":\"#E5ECF6\",\"aaxis\":{\"gridcolor\":\"white\",\"linecolor\":\"white\",\"ticks\":\"\"},\"baxis\":{\"gridcolor\":\"white\",\"linecolor\":\"white\",\"ticks\":\"\"},\"caxis\":{\"gridcolor\":\"white\",\"linecolor\":\"white\",\"ticks\":\"\"}},\"coloraxis\":{\"colorbar\":{\"outlinewidth\":0,\"ticks\":\"\"}},\"colorscale\":{\"sequential\":[[0.0,\"#0d0887\"],[0.1111111111111111,\"#46039f\"],[0.2222222222222222,\"#7201a8\"],[0.3333333333333333,\"#9c179e\"],[0.4444444444444444,\"#bd3786\"],[0.5555555555555556,\"#d8576b\"],[0.6666666666666666,\"#ed7953\"],[0.7777777777777778,\"#fb9f3a\"],[0.8888888888888888,\"#fdca26\"],[1.0,\"#f0f921\"]],\"sequentialminus\":[[0.0,\"#0d0887\"],[0.1111111111111111,\"#46039f\"],[0.2222222222222222,\"#7201a8\"],[0.3333333333333333,\"#9c179e\"],[0.4444444444444444,\"#bd3786\"],[0.5555555555555556,\"#d8576b\"],[0.6666666666666666,\"#ed7953\"],[0.7777777777777778,\"#fb9f3a\"],[0.8888888888888888,\"#fdca26\"],[1.0,\"#f0f921\"]],\"diverging\":[[0,\"#8e0152\"],[0.1,\"#c51b7d\"],[0.2,\"#de77ae\"],[0.3,\"#f1b6da\"],[0.4,\"#fde0ef\"],[0.5,\"#f7f7f7\"],[0.6,\"#e6f5d0\"],[0.7,\"#b8e186\"],[0.8,\"#7fbc41\"],[0.9,\"#4d9221\"],[1,\"#276419\"]]},\"xaxis\":{\"gridcolor\":\"white\",\"linecolor\":\"white\",\"ticks\":\"\",\"title\":{\"standoff\":15},\"zerolinecolor\":\"white\",\"automargin\":true,\"zerolinewidth\":2},\"yaxis\":{\"gridcolor\":\"white\",\"linecolor\":\"white\",\"ticks\":\"\",\"title\":{\"standoff\":15},\"zerolinecolor\":\"white\",\"automargin\":true,\"zerolinewidth\":2},\"scene\":{\"xaxis\":{\"backgroundcolor\":\"#E5ECF6\",\"gridcolor\":\"white\",\"linecolor\":\"white\",\"showbackground\":true,\"ticks\":\"\",\"zerolinecolor\":\"white\",\"gridwidth\":2},\"yaxis\":{\"backgroundcolor\":\"#E5ECF6\",\"gridcolor\":\"white\",\"linecolor\":\"white\",\"showbackground\":true,\"ticks\":\"\",\"zerolinecolor\":\"white\",\"gridwidth\":2},\"zaxis\":{\"backgroundcolor\":\"#E5ECF6\",\"gridcolor\":\"white\",\"linecolor\":\"white\",\"showbackground\":true,\"ticks\":\"\",\"zerolinecolor\":\"white\",\"gridwidth\":2}},\"shapedefaults\":{\"line\":{\"color\":\"#2a3f5f\"}},\"annotationdefaults\":{\"arrowcolor\":\"#2a3f5f\",\"arrowhead\":0,\"arrowwidth\":1},\"geo\":{\"bgcolor\":\"white\",\"landcolor\":\"#E5ECF6\",\"subunitcolor\":\"white\",\"showland\":true,\"showlakes\":true,\"lakecolor\":\"white\"},\"title\":{\"x\":0.05},\"mapbox\":{\"style\":\"light\"}}},\"xaxis\":{\"anchor\":\"y\",\"domain\":[0.0,1.0],\"title\":{\"text\":\"Reward\"}},\"yaxis\":{\"anchor\":\"x\",\"domain\":[0.0,1.0],\"title\":{\"text\":\"Frequency\"}},\"legend\":{\"tracegroupgap\":0},\"title\":{\"text\":\"Episode Rewards (100 episodes)\"},\"barmode\":\"relative\",\"shapes\":[{\"line\":{\"color\":\"red\",\"dash\":\"dash\"},\"type\":\"line\",\"x0\":212.30495379538422,\"x1\":212.30495379538422,\"xref\":\"x\",\"y0\":0,\"y1\":1,\"yref\":\"y domain\"}],\"annotations\":[{\"showarrow\":false,\"text\":\"Mean: 212.30\",\"x\":212.30495379538422,\"xanchor\":\"left\",\"xref\":\"x\",\"y\":1,\"yanchor\":\"top\",\"yref\":\"y domain\"}],\"margin\":{\"l\":0,\"r\":0,\"t\":30,\"b\":0},\"showlegend\":false},                        {\"responsive\": true}                    ).then(function(){\n",
              "                            \n",
              "var gd = document.getElementById('ab1e1bf2-bb92-47ba-be66-9972d98f9363');\n",
              "var x = new MutationObserver(function (mutations, observer) {{\n",
              "        var display = window.getComputedStyle(gd).display;\n",
              "        if (!display || display === 'none') {{\n",
              "            console.log([gd, 'removed!']);\n",
              "            Plotly.purge(gd);\n",
              "            observer.disconnect();\n",
              "        }}\n",
              "}});\n",
              "\n",
              "// Listen for the removal of the full notebook cells\n",
              "var notebookContainer = gd.closest('#notebook-container');\n",
              "if (notebookContainer) {{\n",
              "    x.observe(notebookContainer, {childList: true});\n",
              "}}\n",
              "\n",
              "// Listen for the clearing of the current output cell\n",
              "var outputEl = gd.closest('.output');\n",
              "if (outputEl) {{\n",
              "    x.observe(outputEl, {childList: true});\n",
              "}}\n",
              "\n",
              "                        })                };                            </script>        </div>\n",
              "</body>\n",
              "</html>"
            ]
          },
          "metadata": {}
        },
        {
          "output_type": "stream",
          "name": "stdout",
          "text": [
            "Mean reward: 212.30\n"
          ]
        }
      ],
      "source": [
        "# TODO: Add a histogram of rewards\n",
        "mean_reward = np.mean(rewards)\n",
        "fig = px.histogram(x=rewards, title=f\"Episode Rewards ({len(rewards)} episodes)\")\n",
        "mean_reward = np.mean(rewards)\n",
        "fig.add_vline(x=mean_reward, line_dash=\"dash\", line_color=\"red\",\n",
        "              annotation_text=f\"Mean: {mean_reward:.2f}\", annotation_position=\"top right\")\n",
        "fig.update_layout(xaxis_title=\"Reward\", yaxis_title=\"Frequency\", showlegend=False,\n",
        "                  margin=dict(l=0, r=0, t=30, b=0))\n",
        "fig.show()\n",
        "print(f\"Mean reward: {mean_reward:.2f}\")"
      ]
    },
    {
      "cell_type": "markdown",
      "metadata": {
        "id": "oTuvNrziyvPX"
      },
      "source": [
        "Remember to submit this notebook and your completed model to the GradeScope autograder."
      ]
    }
  ],
  "metadata": {
    "kernelspec": {
      "display_name": "Python 3",
      "name": "python3"
    },
    "language_info": {
      "codemirror_mode": {
        "name": "ipython",
        "version": 3
      },
      "file_extension": ".py",
      "mimetype": "text/x-python",
      "name": "python",
      "nbconvert_exporter": "python",
      "pygments_lexer": "ipython3",
      "version": "3.10.12"
    },
    "colab": {
      "provenance": [],
      "gpuType": "T4"
    },
    "accelerator": "GPU"
  },
  "nbformat": 4,
  "nbformat_minor": 0
}